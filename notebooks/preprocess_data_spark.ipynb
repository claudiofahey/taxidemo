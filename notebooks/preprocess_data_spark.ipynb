{
 "cells": [
  {
   "cell_type": "code",
   "execution_count": 54,
   "metadata": {
    "collapsed": true
   },
   "outputs": [],
   "source": [
    "import pandas as pd\n",
    "import numpy as np\n",
    "import glob\n",
    "import os\n",
    "import bz2\n",
    "import codecs\n",
    "import json\n",
    "import matplotlib.pylab as plt\n",
    "import uuid\n",
    "from pyspark import SparkContext, SparkConf\n",
    "from pyspark.sql import SQLContext\n",
    "%matplotlib inline"
   ]
  },
  {
   "cell_type": "code",
   "execution_count": 55,
   "metadata": {
    "collapsed": true
   },
   "outputs": [],
   "source": [
    "conf = SparkConf()\n",
    "sc = SparkContext.getOrCreate(conf=conf)\n",
    "sql_sc = SQLContext(sc)"
   ]
  },
  {
   "cell_type": "code",
   "execution_count": 91,
   "metadata": {},
   "outputs": [
    {
     "ename": "Py4JJavaError",
     "evalue": "An error occurred while calling z:org.apache.spark.api.python.PythonRDD.readRDDFromFile.\n: java.lang.OutOfMemoryError: Java heap space\n\tat org.apache.spark.api.python.PythonRDD$.readRDDFromFile(PythonRDD.scala:482)\n\tat org.apache.spark.api.python.PythonRDD.readRDDFromFile(PythonRDD.scala)\n\tat sun.reflect.GeneratedMethodAccessor43.invoke(Unknown Source)\n\tat sun.reflect.DelegatingMethodAccessorImpl.invoke(DelegatingMethodAccessorImpl.java:43)\n\tat java.lang.reflect.Method.invoke(Method.java:498)\n\tat py4j.reflection.MethodInvoker.invoke(MethodInvoker.java:244)\n\tat py4j.reflection.ReflectionEngine.invoke(ReflectionEngine.java:357)\n\tat py4j.Gateway.invoke(Gateway.java:280)\n\tat py4j.commands.AbstractCommand.invokeMethod(AbstractCommand.java:132)\n\tat py4j.commands.CallCommand.execute(CallCommand.java:79)\n\tat py4j.GatewayConnection.run(GatewayConnection.java:214)\n\tat java.lang.Thread.run(Thread.java:748)\n",
     "output_type": "error",
     "traceback": [
      "\u001b[0;31m---------------------------------------------------------------------------\u001b[0m",
      "\u001b[0;31mPy4JJavaError\u001b[0m                             Traceback (most recent call last)",
      "\u001b[0;32m<timed exec>\u001b[0m in \u001b[0;36m<module>\u001b[0;34m()\u001b[0m\n",
      "\u001b[0;32m/opt/conda/lib/python3.6/site-packages/pyspark/context.py\u001b[0m in \u001b[0;36mparallelize\u001b[0;34m(self, c, numSlices)\u001b[0m\n\u001b[1;32m    492\u001b[0m             \u001b[0mtempFile\u001b[0m\u001b[0;34m.\u001b[0m\u001b[0mclose\u001b[0m\u001b[0;34m(\u001b[0m\u001b[0;34m)\u001b[0m\u001b[0;34m\u001b[0m\u001b[0m\n\u001b[1;32m    493\u001b[0m             \u001b[0mreadRDDFromFile\u001b[0m \u001b[0;34m=\u001b[0m \u001b[0mself\u001b[0m\u001b[0;34m.\u001b[0m\u001b[0m_jvm\u001b[0m\u001b[0;34m.\u001b[0m\u001b[0mPythonRDD\u001b[0m\u001b[0;34m.\u001b[0m\u001b[0mreadRDDFromFile\u001b[0m\u001b[0;34m\u001b[0m\u001b[0m\n\u001b[0;32m--> 494\u001b[0;31m             \u001b[0mjrdd\u001b[0m \u001b[0;34m=\u001b[0m \u001b[0mreadRDDFromFile\u001b[0m\u001b[0;34m(\u001b[0m\u001b[0mself\u001b[0m\u001b[0;34m.\u001b[0m\u001b[0m_jsc\u001b[0m\u001b[0;34m,\u001b[0m \u001b[0mtempFile\u001b[0m\u001b[0;34m.\u001b[0m\u001b[0mname\u001b[0m\u001b[0;34m,\u001b[0m \u001b[0mnumSlices\u001b[0m\u001b[0;34m)\u001b[0m\u001b[0;34m\u001b[0m\u001b[0m\n\u001b[0m\u001b[1;32m    495\u001b[0m         \u001b[0;32mfinally\u001b[0m\u001b[0;34m:\u001b[0m\u001b[0;34m\u001b[0m\u001b[0m\n\u001b[1;32m    496\u001b[0m             \u001b[0;31m# readRDDFromFile eagerily reads the file so we can delete right after.\u001b[0m\u001b[0;34m\u001b[0m\u001b[0;34m\u001b[0m\u001b[0m\n",
      "\u001b[0;32m/opt/conda/lib/python3.6/site-packages/py4j/java_gateway.py\u001b[0m in \u001b[0;36m__call__\u001b[0;34m(self, *args)\u001b[0m\n\u001b[1;32m   1158\u001b[0m         \u001b[0manswer\u001b[0m \u001b[0;34m=\u001b[0m \u001b[0mself\u001b[0m\u001b[0;34m.\u001b[0m\u001b[0mgateway_client\u001b[0m\u001b[0;34m.\u001b[0m\u001b[0msend_command\u001b[0m\u001b[0;34m(\u001b[0m\u001b[0mcommand\u001b[0m\u001b[0;34m)\u001b[0m\u001b[0;34m\u001b[0m\u001b[0m\n\u001b[1;32m   1159\u001b[0m         return_value = get_return_value(\n\u001b[0;32m-> 1160\u001b[0;31m             answer, self.gateway_client, self.target_id, self.name)\n\u001b[0m\u001b[1;32m   1161\u001b[0m \u001b[0;34m\u001b[0m\u001b[0m\n\u001b[1;32m   1162\u001b[0m         \u001b[0;32mfor\u001b[0m \u001b[0mtemp_arg\u001b[0m \u001b[0;32min\u001b[0m \u001b[0mtemp_args\u001b[0m\u001b[0;34m:\u001b[0m\u001b[0;34m\u001b[0m\u001b[0m\n",
      "\u001b[0;32m/opt/conda/lib/python3.6/site-packages/pyspark/sql/utils.py\u001b[0m in \u001b[0;36mdeco\u001b[0;34m(*a, **kw)\u001b[0m\n\u001b[1;32m     61\u001b[0m     \u001b[0;32mdef\u001b[0m \u001b[0mdeco\u001b[0m\u001b[0;34m(\u001b[0m\u001b[0;34m*\u001b[0m\u001b[0ma\u001b[0m\u001b[0;34m,\u001b[0m \u001b[0;34m**\u001b[0m\u001b[0mkw\u001b[0m\u001b[0;34m)\u001b[0m\u001b[0;34m:\u001b[0m\u001b[0;34m\u001b[0m\u001b[0m\n\u001b[1;32m     62\u001b[0m         \u001b[0;32mtry\u001b[0m\u001b[0;34m:\u001b[0m\u001b[0;34m\u001b[0m\u001b[0m\n\u001b[0;32m---> 63\u001b[0;31m             \u001b[0;32mreturn\u001b[0m \u001b[0mf\u001b[0m\u001b[0;34m(\u001b[0m\u001b[0;34m*\u001b[0m\u001b[0ma\u001b[0m\u001b[0;34m,\u001b[0m \u001b[0;34m**\u001b[0m\u001b[0mkw\u001b[0m\u001b[0;34m)\u001b[0m\u001b[0;34m\u001b[0m\u001b[0m\n\u001b[0m\u001b[1;32m     64\u001b[0m         \u001b[0;32mexcept\u001b[0m \u001b[0mpy4j\u001b[0m\u001b[0;34m.\u001b[0m\u001b[0mprotocol\u001b[0m\u001b[0;34m.\u001b[0m\u001b[0mPy4JJavaError\u001b[0m \u001b[0;32mas\u001b[0m \u001b[0me\u001b[0m\u001b[0;34m:\u001b[0m\u001b[0;34m\u001b[0m\u001b[0m\n\u001b[1;32m     65\u001b[0m             \u001b[0ms\u001b[0m \u001b[0;34m=\u001b[0m \u001b[0me\u001b[0m\u001b[0;34m.\u001b[0m\u001b[0mjava_exception\u001b[0m\u001b[0;34m.\u001b[0m\u001b[0mtoString\u001b[0m\u001b[0;34m(\u001b[0m\u001b[0;34m)\u001b[0m\u001b[0;34m\u001b[0m\u001b[0m\n",
      "\u001b[0;32m/opt/conda/lib/python3.6/site-packages/py4j/protocol.py\u001b[0m in \u001b[0;36mget_return_value\u001b[0;34m(answer, gateway_client, target_id, name)\u001b[0m\n\u001b[1;32m    318\u001b[0m                 raise Py4JJavaError(\n\u001b[1;32m    319\u001b[0m                     \u001b[0;34m\"An error occurred while calling {0}{1}{2}.\\n\"\u001b[0m\u001b[0;34m.\u001b[0m\u001b[0;34m\u001b[0m\u001b[0m\n\u001b[0;32m--> 320\u001b[0;31m                     format(target_id, \".\", name), value)\n\u001b[0m\u001b[1;32m    321\u001b[0m             \u001b[0;32melse\u001b[0m\u001b[0;34m:\u001b[0m\u001b[0;34m\u001b[0m\u001b[0m\n\u001b[1;32m    322\u001b[0m                 raise Py4JError(\n",
      "\u001b[0;31mPy4JJavaError\u001b[0m: An error occurred while calling z:org.apache.spark.api.python.PythonRDD.readRDDFromFile.\n: java.lang.OutOfMemoryError: Java heap space\n\tat org.apache.spark.api.python.PythonRDD$.readRDDFromFile(PythonRDD.scala:482)\n\tat org.apache.spark.api.python.PythonRDD.readRDDFromFile(PythonRDD.scala)\n\tat sun.reflect.GeneratedMethodAccessor43.invoke(Unknown Source)\n\tat sun.reflect.DelegatingMethodAccessorImpl.invoke(DelegatingMethodAccessorImpl.java:43)\n\tat java.lang.reflect.Method.invoke(Method.java:498)\n\tat py4j.reflection.MethodInvoker.invoke(MethodInvoker.java:244)\n\tat py4j.reflection.ReflectionEngine.invoke(ReflectionEngine.java:357)\n\tat py4j.Gateway.invoke(Gateway.java:280)\n\tat py4j.commands.AbstractCommand.invokeMethod(AbstractCommand.java:132)\n\tat py4j.commands.CallCommand.execute(CallCommand.java:79)\n\tat py4j.GatewayConnection.run(GatewayConnection.java:214)\n\tat java.lang.Thread.run(Thread.java:748)\n"
     ]
    }
   ],
   "source": [
    "%%time\n",
    "infilename = 'yellow_tripdata_2015-03.csv'\n",
    "inchunks = pd.read_csv(infilename, chunksize=100000)\n",
    "rdd = sc.emptyRDD()\n",
    "for chunk in inchunks:\n",
    "    rdd += sc.parallelize(list([row for index,row in chunk.iterrows()]))"
   ]
  },
  {
   "cell_type": "code",
   "execution_count": 92,
   "metadata": {},
   "outputs": [
    {
     "ename": "AttributeError",
     "evalue": "'RDD' object has no attribute 'head'",
     "output_type": "error",
     "traceback": [
      "\u001b[0;31m---------------------------------------------------------------------------\u001b[0m",
      "\u001b[0;31mAttributeError\u001b[0m                            Traceback (most recent call last)",
      "\u001b[0;32m<ipython-input-92-149c62a3d981>\u001b[0m in \u001b[0;36m<module>\u001b[0;34m()\u001b[0m\n\u001b[0;32m----> 1\u001b[0;31m \u001b[0mpd\u001b[0m\u001b[0;34m.\u001b[0m\u001b[0mDataFrame\u001b[0m\u001b[0;34m(\u001b[0m\u001b[0mrdd\u001b[0m\u001b[0;34m.\u001b[0m\u001b[0mhead\u001b[0m\u001b[0;34m(\u001b[0m\u001b[0;34m)\u001b[0m\u001b[0;34m)\u001b[0m\u001b[0;34m\u001b[0m\u001b[0m\n\u001b[0m",
      "\u001b[0;31mAttributeError\u001b[0m: 'RDD' object has no attribute 'head'"
     ]
    }
   ],
   "source": [
    "pd.DataFrame(rdd.head())"
   ]
  },
  {
   "cell_type": "code",
   "execution_count": 73,
   "metadata": {},
   "outputs": [],
   "source": [
    "def create_events(trip_record):\n",
    "    events = []\n",
    "    dropoff_datetime = pd.to_datetime(trip_record['tpep_dropoff_datetime']).tz_localize('Etc/GMT+5')\n",
    "    if dropoff_datetime > pd.to_datetime('2015-03-04 00:00:00-05:00', utc=True):\n",
    "        return events\n",
    "    pickup_datetime = pd.to_datetime(trip_record['tpep_pickup_datetime']).tz_localize('Etc/GMT+5')\n",
    "    trip_id = str(uuid.uuid4())\n",
    "    events.append({\n",
    "        'event_type': 'pickup',\n",
    "        'timestamp': pickup_datetime,\n",
    "        'trip_fraction': 0.0,\n",
    "        'trip_id': trip_id,\n",
    "        'location': {\n",
    "            'lat': trip_record.pickup_latitude,\n",
    "            'lon': trip_record.pickup_longitude,\n",
    "        },\n",
    "        'passenger_count': trip_record.passenger_count,\n",
    "    })\n",
    "    \n",
    "    # Create route events every 1 minute.\n",
    "    # Assume that route is a straight line from pickup to dropoff.\n",
    "    trip_duration = dropoff_datetime - pickup_datetime\n",
    "    report_period = pd.Timedelta(1, 'm')\n",
    "    report_timestamp = pickup_datetime\n",
    "    while True:\n",
    "        report_timestamp += report_period\n",
    "        if report_timestamp >= dropoff_datetime:\n",
    "            break\n",
    "        trip_fraction = (report_timestamp - pickup_datetime) / trip_duration\n",
    "        events.append({\n",
    "            'event_type': 'route',\n",
    "            'timestamp': report_timestamp,\n",
    "            'trip_fraction': trip_fraction,\n",
    "            'trip_id': trip_id,\n",
    "            'location': {\n",
    "                'lat': trip_record.pickup_latitude + (trip_record.dropoff_latitude - trip_record.pickup_latitude) * trip_fraction,\n",
    "                'lon': trip_record.pickup_longitude + (trip_record.dropoff_longitude - trip_record.pickup_longitude) * trip_fraction,\n",
    "            },\n",
    "            'passenger_count': trip_record.passenger_count,\n",
    "        })\n",
    "\n",
    "    events.append({\n",
    "        'event_type': 'dropoff',\n",
    "        'timestamp': dropoff_datetime,\n",
    "        'trip_fraction': 1.0,\n",
    "        'trip_id': trip_id,\n",
    "        'location': {\n",
    "            'lat': trip_record.dropoff_latitude,\n",
    "            'lon': trip_record.dropoff_longitude,\n",
    "        },\n",
    "        'passenger_count': trip_record.passenger_count,\n",
    "        'trip_distance': trip_record.trip_distance,\n",
    "        'trip_duration_minutes': trip_duration / pd.Timedelta(1, 'm'),\n",
    "        'total_amount': trip_record.total_amount,\n",
    "    })\n",
    "    return events"
   ]
  },
  {
   "cell_type": "code",
   "execution_count": 75,
   "metadata": {},
   "outputs": [],
   "source": [
    "all_events_rdd = rdd.flatMap(create_events)"
   ]
  },
  {
   "cell_type": "code",
   "execution_count": 76,
   "metadata": {},
   "outputs": [
    {
     "data": {
      "text/plain": [
       "42"
      ]
     },
     "execution_count": 76,
     "metadata": {},
     "output_type": "execute_result"
    }
   ],
   "source": [
    "all_events_rdd.count()"
   ]
  },
  {
   "cell_type": "code",
   "execution_count": 88,
   "metadata": {
    "collapsed": true
   },
   "outputs": [],
   "source": [
    "def serialize_event(event):\n",
    "    event['timestamp'] = int(event['timestamp'].value / 1e6)\n",
    "    return json.dumps(event)"
   ]
  },
  {
   "cell_type": "code",
   "execution_count": 89,
   "metadata": {},
   "outputs": [],
   "source": [
    "serialized_rdd = all_events_rdd.sortBy(lambda r: r['timestamp']).map(serialize_event)"
   ]
  },
  {
   "cell_type": "code",
   "execution_count": 90,
   "metadata": {
    "collapsed": true
   },
   "outputs": [
    {
     "data": {
      "text/plain": [
       "['{\"event_type\": \"pickup\", \"timestamp\": 1425646951000, \"trip_fraction\": 0.0, \"trip_id\": \"4273e632-bf82-4213-876a-26cf822f2248\", \"location\": {\"lat\": 40.75096893310547, \"lon\": -73.9902114868164}, \"passenger_count\": 1}',\n",
       " '{\"event_type\": \"pickup\", \"timestamp\": 1425646951000, \"trip_fraction\": 0.0, \"trip_id\": \"a5e85b53-d3b0-431d-a5cc-d1061c90c2fa\", \"location\": {\"lat\": 40.80072021484375, \"lon\": -73.93518829345702}, \"passenger_count\": 1}',\n",
       " '{\"event_type\": \"pickup\", \"timestamp\": 1425646951000, \"trip_fraction\": 0.0, \"trip_id\": \"8710c7c5-ca13-4910-9ae8-adf48b5c4221\", \"location\": {\"lat\": 40.76793670654297, \"lon\": -73.96375274658203}, \"passenger_count\": 1}',\n",
       " '{\"event_type\": \"pickup\", \"timestamp\": 1425646951000, \"trip_fraction\": 0.0, \"trip_id\": \"cac387db-d8ef-4f8d-a931-789b54b12d08\", \"location\": {\"lat\": 40.74216842651367, \"lon\": -73.99717712402342}, \"passenger_count\": 1}',\n",
       " '{\"event_type\": \"route\", \"timestamp\": 1425647011000, \"trip_fraction\": 0.13513513513513514, \"trip_id\": \"4273e632-bf82-4213-876a-26cf822f2248\", \"location\": {\"lat\": 40.749221389358105, \"lon\": -73.98989806304107}, \"passenger_count\": 1}',\n",
       " '{\"event_type\": \"route\", \"timestamp\": 1425647011000, \"trip_fraction\": 0.07772020725388601, \"trip_id\": \"a5e85b53-d3b0-431d-a5cc-d1061c90c2fa\", \"location\": {\"lat\": 40.79797303985438, \"lon\": -73.93653786614767}, \"passenger_count\": 1}',\n",
       " '{\"event_type\": \"route\", \"timestamp\": 1425647011000, \"trip_fraction\": 0.10067114093959731, \"trip_id\": \"8710c7c5-ca13-4910-9ae8-adf48b5c4221\", \"location\": {\"lat\": 40.76917827529395, \"lon\": -73.96306763719392}, \"passenger_count\": 1}',\n",
       " '{\"event_type\": \"route\", \"timestamp\": 1425647011000, \"trip_fraction\": 0.1507537688442211, \"trip_id\": \"cac387db-d8ef-4f8d-a931-789b54b12d08\", \"location\": {\"lat\": 40.7417330909614, \"lon\": -73.9988184023143}, \"passenger_count\": 1}',\n",
       " '{\"event_type\": \"route\", \"timestamp\": 1425647071000, \"trip_fraction\": 0.2702702702702703, \"trip_id\": \"4273e632-bf82-4213-876a-26cf822f2248\", \"location\": {\"lat\": 40.74747384561075, \"lon\": -73.98958463926573}, \"passenger_count\": 1}',\n",
       " '{\"event_type\": \"route\", \"timestamp\": 1425647071000, \"trip_fraction\": 0.15544041450777202, \"trip_id\": \"a5e85b53-d3b0-431d-a5cc-d1061c90c2fa\", \"location\": {\"lat\": 40.795225864865, \"lon\": -73.93788743883833}, \"passenger_count\": 1}',\n",
       " '{\"event_type\": \"route\", \"timestamp\": 1425647071000, \"trip_fraction\": 0.20134228187919462, \"trip_id\": \"8710c7c5-ca13-4910-9ae8-adf48b5c4221\", \"location\": {\"lat\": 40.77041984404494, \"lon\": -73.96238252780581}, \"passenger_count\": 1}',\n",
       " '{\"event_type\": \"route\", \"timestamp\": 1425647071000, \"trip_fraction\": 0.3015075376884422, \"trip_id\": \"cac387db-d8ef-4f8d-a931-789b54b12d08\", \"location\": {\"lat\": 40.74129775540913, \"lon\": -74.00045968060518}, \"passenger_count\": 1}',\n",
       " '{\"event_type\": \"route\", \"timestamp\": 1425647131000, \"trip_fraction\": 0.40540540540540543, \"trip_id\": \"4273e632-bf82-4213-876a-26cf822f2248\", \"location\": {\"lat\": 40.745726301863385, \"lon\": -73.98927121549039}, \"passenger_count\": 1}',\n",
       " '{\"event_type\": \"route\", \"timestamp\": 1425647131000, \"trip_fraction\": 0.23316062176165803, \"trip_id\": \"a5e85b53-d3b0-431d-a5cc-d1061c90c2fa\", \"location\": {\"lat\": 40.79247868987563, \"lon\": -73.93923701152899}, \"passenger_count\": 1}',\n",
       " '{\"event_type\": \"route\", \"timestamp\": 1425647131000, \"trip_fraction\": 0.30201342281879195, \"trip_id\": \"8710c7c5-ca13-4910-9ae8-adf48b5c4221\", \"location\": {\"lat\": 40.771661412795915, \"lon\": -73.9616974184177}, \"passenger_count\": 1}',\n",
       " '{\"event_type\": \"route\", \"timestamp\": 1425647131000, \"trip_fraction\": 0.45226130653266333, \"trip_id\": \"cac387db-d8ef-4f8d-a931-789b54b12d08\", \"location\": {\"lat\": 40.74086241985685, \"lon\": -74.00210095889604}, \"passenger_count\": 1}',\n",
       " '{\"event_type\": \"route\", \"timestamp\": 1425647191000, \"trip_fraction\": 0.5405405405405406, \"trip_id\": \"4273e632-bf82-4213-876a-26cf822f2248\", \"location\": {\"lat\": 40.74397875811603, \"lon\": -73.98895779171505}, \"passenger_count\": 1}',\n",
       " '{\"event_type\": \"route\", \"timestamp\": 1425647191000, \"trip_fraction\": 0.31088082901554404, \"trip_id\": \"a5e85b53-d3b0-431d-a5cc-d1061c90c2fa\", \"location\": {\"lat\": 40.789731514886256, \"lon\": -73.94058658421964}, \"passenger_count\": 1}',\n",
       " '{\"event_type\": \"route\", \"timestamp\": 1425647191000, \"trip_fraction\": 0.40268456375838924, \"trip_id\": \"8710c7c5-ca13-4910-9ae8-adf48b5c4221\", \"location\": {\"lat\": 40.7729029815469, \"lon\": -73.9610123090296}, \"passenger_count\": 1}',\n",
       " '{\"event_type\": \"route\", \"timestamp\": 1425647191000, \"trip_fraction\": 0.6030150753768844, \"trip_id\": \"cac387db-d8ef-4f8d-a931-789b54b12d08\", \"location\": {\"lat\": 40.740427084304585, \"lon\": -74.00374223718691}, \"passenger_count\": 1}',\n",
       " '{\"event_type\": \"route\", \"timestamp\": 1425647251000, \"trip_fraction\": 0.6756756756756757, \"trip_id\": \"4273e632-bf82-4213-876a-26cf822f2248\", \"location\": {\"lat\": 40.742231214368665, \"lon\": -73.98864436793971}, \"passenger_count\": 1}',\n",
       " '{\"event_type\": \"route\", \"timestamp\": 1425647251000, \"trip_fraction\": 0.38860103626943004, \"trip_id\": \"a5e85b53-d3b0-431d-a5cc-d1061c90c2fa\", \"location\": {\"lat\": 40.78698433989688, \"lon\": -73.9419361569103}, \"passenger_count\": 1}',\n",
       " '{\"event_type\": \"route\", \"timestamp\": 1425647251000, \"trip_fraction\": 0.5033557046979866, \"trip_id\": \"8710c7c5-ca13-4910-9ae8-adf48b5c4221\", \"location\": {\"lat\": 40.77414455029788, \"lon\": -73.96032719964148}, \"passenger_count\": 1}',\n",
       " '{\"event_type\": \"route\", \"timestamp\": 1425647251000, \"trip_fraction\": 0.7537688442211056, \"trip_id\": \"cac387db-d8ef-4f8d-a931-789b54b12d08\", \"location\": {\"lat\": 40.73999174875231, \"lon\": -74.00538351547779}, \"passenger_count\": 1}',\n",
       " '{\"event_type\": \"route\", \"timestamp\": 1425647311000, \"trip_fraction\": 0.8108108108108109, \"trip_id\": \"4273e632-bf82-4213-876a-26cf822f2248\", \"location\": {\"lat\": 40.7404836706213, \"lon\": -73.98833094416437}, \"passenger_count\": 1}',\n",
       " '{\"event_type\": \"route\", \"timestamp\": 1425647311000, \"trip_fraction\": 0.46632124352331605, \"trip_id\": \"a5e85b53-d3b0-431d-a5cc-d1061c90c2fa\", \"location\": {\"lat\": 40.7842371649075, \"lon\": -73.94328572960096}, \"passenger_count\": 1}',\n",
       " '{\"event_type\": \"route\", \"timestamp\": 1425647311000, \"trip_fraction\": 0.6040268456375839, \"trip_id\": \"8710c7c5-ca13-4910-9ae8-adf48b5c4221\", \"location\": {\"lat\": 40.77538611904887, \"lon\": -73.95964209025337}, \"passenger_count\": 1}',\n",
       " '{\"event_type\": \"route\", \"timestamp\": 1425647311000, \"trip_fraction\": 0.9045226130653267, \"trip_id\": \"cac387db-d8ef-4f8d-a931-789b54b12d08\", \"location\": {\"lat\": 40.73955641320004, \"lon\": -74.00702479376866}, \"passenger_count\": 1}',\n",
       " '{\"event_type\": \"dropoff\", \"timestamp\": 1425647349000, \"trip_fraction\": 1.0, \"trip_id\": \"cac387db-d8ef-4f8d-a931-789b54b12d08\", \"location\": {\"lat\": 40.7392807006836, \"lon\": -74.00806427001955}, \"passenger_count\": 1, \"trip_distance\": 0.8, \"trip_duration_minutes\": 6.633333333333334, \"total_amount\": 7.8}',\n",
       " '{\"event_type\": \"route\", \"timestamp\": 1425647371000, \"trip_fraction\": 0.9459459459459459, \"trip_id\": \"4273e632-bf82-4213-876a-26cf822f2248\", \"location\": {\"lat\": 40.738736126873945, \"lon\": -73.98801752038904}, \"passenger_count\": 1}',\n",
       " '{\"event_type\": \"route\", \"timestamp\": 1425647371000, \"trip_fraction\": 0.5440414507772021, \"trip_id\": \"a5e85b53-d3b0-431d-a5cc-d1061c90c2fa\", \"location\": {\"lat\": 40.78148998991813, \"lon\": -73.94463530229162}, \"passenger_count\": 1}',\n",
       " '{\"event_type\": \"route\", \"timestamp\": 1425647371000, \"trip_fraction\": 0.7046979865771812, \"trip_id\": \"8710c7c5-ca13-4910-9ae8-adf48b5c4221\", \"location\": {\"lat\": 40.77662768779985, \"lon\": -73.95895698086527}, \"passenger_count\": 1}',\n",
       " '{\"event_type\": \"dropoff\", \"timestamp\": 1425647395000, \"trip_fraction\": 1.0, \"trip_id\": \"4273e632-bf82-4213-876a-26cf822f2248\", \"location\": {\"lat\": 40.738037109375, \"lon\": -73.9878921508789}, \"passenger_count\": 1, \"trip_distance\": 1.2, \"trip_duration_minutes\": 7.4, \"total_amount\": 7.8}',\n",
       " '{\"event_type\": \"route\", \"timestamp\": 1425647431000, \"trip_fraction\": 0.6217616580310881, \"trip_id\": \"a5e85b53-d3b0-431d-a5cc-d1061c90c2fa\", \"location\": {\"lat\": 40.778742814928755, \"lon\": -73.94598487498227}, \"passenger_count\": 1}',\n",
       " '{\"event_type\": \"route\", \"timestamp\": 1425647431000, \"trip_fraction\": 0.8053691275167785, \"trip_id\": \"8710c7c5-ca13-4910-9ae8-adf48b5c4221\", \"location\": {\"lat\": 40.77786925655084, \"lon\": -73.95827187147715}, \"passenger_count\": 1}',\n",
       " '{\"event_type\": \"route\", \"timestamp\": 1425647491000, \"trip_fraction\": 0.6994818652849741, \"trip_id\": \"a5e85b53-d3b0-431d-a5cc-d1061c90c2fa\", \"location\": {\"lat\": 40.77599563993938, \"lon\": -73.94733444767293}, \"passenger_count\": 1}',\n",
       " '{\"event_type\": \"route\", \"timestamp\": 1425647491000, \"trip_fraction\": 0.9060402684563759, \"trip_id\": \"8710c7c5-ca13-4910-9ae8-adf48b5c4221\", \"location\": {\"lat\": 40.779110825301814, \"lon\": -73.95758676208905}, \"passenger_count\": 1}',\n",
       " '{\"event_type\": \"dropoff\", \"timestamp\": 1425647547000, \"trip_fraction\": 1.0, \"trip_id\": \"8710c7c5-ca13-4910-9ae8-adf48b5c4221\", \"location\": {\"lat\": 40.780269622802734, \"lon\": -73.95694732666014}, \"passenger_count\": 1, \"trip_distance\": 1.1, \"trip_duration_minutes\": 9.933333333333334, \"total_amount\": 8.8}',\n",
       " '{\"event_type\": \"route\", \"timestamp\": 1425647551000, \"trip_fraction\": 0.7772020725388601, \"trip_id\": \"a5e85b53-d3b0-431d-a5cc-d1061c90c2fa\", \"location\": {\"lat\": 40.77324846495001, \"lon\": -73.94868402036359}, \"passenger_count\": 1}',\n",
       " '{\"event_type\": \"route\", \"timestamp\": 1425647611000, \"trip_fraction\": 0.8549222797927462, \"trip_id\": \"a5e85b53-d3b0-431d-a5cc-d1061c90c2fa\", \"location\": {\"lat\": 40.770501289960634, \"lon\": -73.95003359305424}, \"passenger_count\": 1}',\n",
       " '{\"event_type\": \"route\", \"timestamp\": 1425647671000, \"trip_fraction\": 0.9326424870466321, \"trip_id\": \"a5e85b53-d3b0-431d-a5cc-d1061c90c2fa\", \"location\": {\"lat\": 40.76775411497126, \"lon\": -73.9513831657449}, \"passenger_count\": 1}',\n",
       " '{\"event_type\": \"dropoff\", \"timestamp\": 1425647723000, \"trip_fraction\": 1.0, \"trip_id\": \"a5e85b53-d3b0-431d-a5cc-d1061c90c2fa\", \"location\": {\"lat\": 40.76537322998047, \"lon\": -73.95255279541014}, \"passenger_count\": 1, \"trip_distance\": 3.2, \"trip_duration_minutes\": 12.866666666666667, \"total_amount\": 12.3}']"
      ]
     },
     "execution_count": 90,
     "metadata": {},
     "output_type": "execute_result"
    }
   ],
   "source": [
    "serialized_rdd.collect()"
   ]
  },
  {
   "cell_type": "code",
   "execution_count": 83,
   "metadata": {
    "collapsed": true
   },
   "outputs": [],
   "source": [
    "serialized_rdd.coalesce(1).saveAsTextFile('data2.json')"
   ]
  },
  {
   "cell_type": "code",
   "execution_count": null,
   "metadata": {
    "collapsed": true
   },
   "outputs": [],
   "source": [
    "%%time\n",
    "all_events_df = pd.DataFrame(all_events).sort_values(['timestamp'])\n",
    "all_events_df.head(10)"
   ]
  },
  {
   "cell_type": "code",
   "execution_count": null,
   "metadata": {
    "collapsed": true
   },
   "outputs": [],
   "source": [
    "all_events_df.to_json('data.ndjson', orient='records', lines=True)"
   ]
  },
  {
   "cell_type": "markdown",
   "metadata": {},
   "source": [
    "# Playground"
   ]
  },
  {
   "cell_type": "code",
   "execution_count": 41,
   "metadata": {},
   "outputs": [
    {
     "data": {
      "text/plain": [
       "DatetimeIndex(['2015-05-05', '2015-05-05', '2015-05-05', '2015-05-05',\n",
       "               '2015-05-05', '2015-05-05', '2015-05-05', '2015-05-05',\n",
       "               '2015-05-05', '2015-05-05', '2015-05-05', '2015-05-05',\n",
       "               '2015-05-05', '2015-05-05', '2015-05-05', '2015-05-05',\n",
       "               '2015-05-05', '2015-05-05', '2015-05-05', '2015-05-06'],\n",
       "              dtype='datetime64[ns]', name='timestamp', freq=None)"
      ]
     },
     "execution_count": 41,
     "metadata": {},
     "output_type": "execute_result"
    }
   ],
   "source": [
    "all_events_df.index.to_period(freq='d').start_time"
   ]
  },
  {
   "cell_type": "code",
   "execution_count": 50,
   "metadata": {},
   "outputs": [
    {
     "data": {
      "text/plain": [
       "Period('2015-05-06', 'D')"
      ]
     },
     "execution_count": 50,
     "metadata": {},
     "output_type": "execute_result"
    }
   ],
   "source": [
    "begin_playback_period = pd.Period('2015-05-06', 'D')\n",
    "begin_playback_period"
   ]
  },
  {
   "cell_type": "code",
   "execution_count": 54,
   "metadata": {},
   "outputs": [
    {
     "data": {
      "text/plain": [
       "Timestamp('2015-05-06 00:00:00-0400', tz='US/Eastern')"
      ]
     },
     "execution_count": 54,
     "metadata": {},
     "output_type": "execute_result"
    }
   ],
   "source": [
    "begin_playback_original_timestamp = begin_playback_period.start_time.tz_localize('US/Eastern')\n",
    "begin_playback_original_timestamp"
   ]
  },
  {
   "cell_type": "code",
   "execution_count": 65,
   "metadata": {},
   "outputs": [
    {
     "data": {
      "text/plain": [
       "Timestamp('2018-02-27 19:40:38.762375-0500', tz='US/Eastern')"
      ]
     },
     "execution_count": 65,
     "metadata": {},
     "output_type": "execute_result"
    }
   ],
   "source": [
    "realtime_timestamp = pd.Timestamp.now('US/Eastern')\n",
    "realtime_timestamp"
   ]
  },
  {
   "cell_type": "code",
   "execution_count": 68,
   "metadata": {},
   "outputs": [
    {
     "data": {
      "text/plain": [
       "Period('2018-02-27', 'D')"
      ]
     },
     "execution_count": 68,
     "metadata": {},
     "output_type": "execute_result"
    }
   ],
   "source": [
    "realtime_period = pd.Period(realtime_timestamp, freq='D')\n",
    "realtime_period"
   ]
  },
  {
   "cell_type": "code",
   "execution_count": 69,
   "metadata": {},
   "outputs": [
    {
     "data": {
      "text/plain": [
       "1028"
      ]
     },
     "execution_count": 69,
     "metadata": {},
     "output_type": "execute_result"
    }
   ],
   "source": [
    "delta_periods = realtime_period - begin_playback_period\n",
    "delta_periods"
   ]
  },
  {
   "cell_type": "code",
   "execution_count": 70,
   "metadata": {},
   "outputs": [
    {
     "data": {
      "text/plain": [
       "Timestamp('2015-05-06 20:40:38.762375-0400', tz='US/Eastern')"
      ]
     },
     "execution_count": 70,
     "metadata": {},
     "output_type": "execute_result"
    }
   ],
   "source": [
    "realtime_timestamp - (realtime_period - begin_playback_period) * realtime_period.freq.delta"
   ]
  },
  {
   "cell_type": "code",
   "execution_count": 86,
   "metadata": {},
   "outputs": [
    {
     "data": {
      "text/plain": [
       "'2015-05-05 20:37:40-07:00'"
      ]
     },
     "execution_count": 86,
     "metadata": {},
     "output_type": "execute_result"
    }
   ],
   "source": [
    "t = pd.to_datetime(1430883460000, unit='ms', utc=True).tz_convert('US/Pacific')\n",
    "str(t)"
   ]
  },
  {
   "cell_type": "code",
   "execution_count": 80,
   "metadata": {},
   "outputs": [
    {
     "data": {
      "text/plain": [
       "Timestamp('2018-02-28 01:16:44.285336+0000', tz='UTC')"
      ]
     },
     "execution_count": 80,
     "metadata": {},
     "output_type": "execute_result"
    }
   ],
   "source": [
    "pd.Timestamp.now('UTC')"
   ]
  },
  {
   "cell_type": "code",
   "execution_count": 83,
   "metadata": {},
   "outputs": [
    {
     "data": {
      "text/plain": [
       "88819200000.0"
      ]
     },
     "execution_count": 83,
     "metadata": {},
     "output_type": "execute_result"
    }
   ],
   "source": [
    "(realtime_period - begin_playback_period) * realtime_period.freq.delta / pd.Timedelta(1, 'ms')"
   ]
  },
  {
   "cell_type": "code",
   "execution_count": 28,
   "metadata": {},
   "outputs": [
    {
     "data": {
      "text/plain": [
       "Timestamp('2018-02-28 05:40:28.684808+0000', tz='UTC')"
      ]
     },
     "execution_count": 28,
     "metadata": {},
     "output_type": "execute_result"
    }
   ],
   "source": [
    "t = pd.Timestamp.now('UTC')\n",
    "t"
   ]
  },
  {
   "cell_type": "code",
   "execution_count": 30,
   "metadata": {},
   "outputs": [
    {
     "data": {
      "text/plain": [
       "1519796428684.8079"
      ]
     },
     "execution_count": 30,
     "metadata": {},
     "output_type": "execute_result"
    }
   ],
   "source": [
    "t.value / 1e6"
   ]
  }
 ],
 "metadata": {
  "kernelspec": {
   "display_name": "Python 3",
   "language": "python",
   "name": "python3"
  },
  "language_info": {
   "codemirror_mode": {
    "name": "ipython",
    "version": 3
   },
   "file_extension": ".py",
   "mimetype": "text/x-python",
   "name": "python",
   "nbconvert_exporter": "python",
   "pygments_lexer": "ipython3",
   "version": "3.6.1"
  }
 },
 "nbformat": 4,
 "nbformat_minor": 2
}
