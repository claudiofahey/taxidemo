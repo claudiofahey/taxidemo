{
 "cells": [
  {
   "cell_type": "code",
   "execution_count": 228,
   "metadata": {
    "collapsed": true
   },
   "outputs": [],
   "source": [
    "import pandas as pd\n",
    "import numpy as np\n",
    "import glob\n",
    "import os\n",
    "import bz2\n",
    "import codecs\n",
    "import json\n",
    "import matplotlib.pylab as plt\n",
    "import uuid\n",
    "import random\n",
    "from pyspark import SparkContext, SparkConf\n",
    "from pyspark.sql import SQLContext, Row\n",
    "from pyspark.sql.types import StructType, StructField, IntegerType, TimestampType, DoubleType, StringType\n",
    "from pyspark.sql.functions import to_utc_timestamp, unix_timestamp, from_unixtime\n",
    "%matplotlib inline"
   ]
  },
  {
   "cell_type": "code",
   "execution_count": 182,
   "metadata": {
    "collapsed": true
   },
   "outputs": [],
   "source": [
    "conf = SparkConf()"
   ]
  },
  {
   "cell_type": "code",
   "execution_count": 183,
   "metadata": {},
   "outputs": [
    {
     "data": {
      "text/plain": [
       "<pyspark.conf.SparkConf at 0x7f39a4e1e080>"
      ]
     },
     "execution_count": 183,
     "metadata": {},
     "output_type": "execute_result"
    }
   ],
   "source": [
    "conf.setMaster('local[8]')"
   ]
  },
  {
   "cell_type": "code",
   "execution_count": 184,
   "metadata": {
    "collapsed": true
   },
   "outputs": [],
   "source": [
    "sc = SparkContext.getOrCreate(conf=conf)\n",
    "sql_sc = SQLContext(sc)"
   ]
  },
  {
   "cell_type": "code",
   "execution_count": 185,
   "metadata": {
    "collapsed": true
   },
   "outputs": [],
   "source": [
    "schema = StructType([\n",
    "        StructField('VendorID',IntegerType(),True),\n",
    "        StructField('tpep_pickup_datetime',TimestampType(),True),\n",
    "        StructField('tpep_dropoff_datetime',TimestampType(),True),\n",
    "        StructField('passenger_count',IntegerType(),True),\n",
    "        StructField('trip_distance',DoubleType(),True),\n",
    "        StructField('pickup_longitude',DoubleType(),True),\n",
    "        StructField('pickup_latitude',DoubleType(),True),\n",
    "        StructField('RateCodeID',IntegerType(),True),\n",
    "        StructField('store_and_fwd_flag',StringType(),True),\n",
    "        StructField('dropoff_longitude',DoubleType(),True),\n",
    "        StructField('dropoff_latitude',DoubleType(),True),\n",
    "        StructField('payment_type',IntegerType(),True),\n",
    "        StructField('fare_amount',DoubleType(),True),\n",
    "        StructField('extra',DoubleType(),True),\n",
    "        StructField('mta_tax',DoubleType(),True),\n",
    "        StructField('tip_amount',DoubleType(),True),\n",
    "        StructField('tolls_amount',DoubleType(),True),\n",
    "        StructField('improvement_surcharge',DoubleType(),True),\n",
    "        StructField('total_amount',DoubleType(),True),\n",
    "    ])"
   ]
  },
  {
   "cell_type": "code",
   "execution_count": 186,
   "metadata": {
    "collapsed": true
   },
   "outputs": [],
   "source": [
    "infilename = 'yellow_tripdata_2015-03.csv'\n",
    "#infilename = 'sample.csv'\n",
    "raw_sdf = (sql_sc\n",
    "    .read\n",
    "    .csv(infilename, header=True, schema=schema, timestampFormat='yyyy-MM-dd HH:mm:ss'))"
   ]
  },
  {
   "cell_type": "code",
   "execution_count": 187,
   "metadata": {
    "collapsed": true
   },
   "outputs": [],
   "source": [
    "clean_sdf = raw_sdf.withColumn('tpep_pickup_timestamp_ms',  unix_timestamp(raw_sdf['tpep_pickup_datetime' ])*1000 + 5*60*60*1000)\n",
    "clean_sdf = clean_sdf.withColumn('tpep_dropoff_timestamp_ms', unix_timestamp(raw_sdf['tpep_dropoff_datetime'])*1000 + 5*60*60*1000)"
   ]
  },
  {
   "cell_type": "code",
   "execution_count": 188,
   "metadata": {},
   "outputs": [
    {
     "name": "stdout",
     "output_type": "stream",
     "text": [
      "<class 'pandas.core.frame.DataFrame'>\n",
      "RangeIndex: 1 entries, 0 to 0\n",
      "Data columns (total 21 columns):\n",
      "VendorID                     1 non-null int64\n",
      "tpep_pickup_datetime         1 non-null datetime64[ns]\n",
      "tpep_dropoff_datetime        1 non-null datetime64[ns]\n",
      "passenger_count              1 non-null int64\n",
      "trip_distance                1 non-null float64\n",
      "pickup_longitude             1 non-null float64\n",
      "pickup_latitude              1 non-null float64\n",
      "RateCodeID                   1 non-null int64\n",
      "store_and_fwd_flag           1 non-null object\n",
      "dropoff_longitude            1 non-null float64\n",
      "dropoff_latitude             1 non-null float64\n",
      "payment_type                 1 non-null int64\n",
      "fare_amount                  1 non-null float64\n",
      "extra                        1 non-null float64\n",
      "mta_tax                      1 non-null float64\n",
      "tip_amount                   1 non-null float64\n",
      "tolls_amount                 1 non-null float64\n",
      "improvement_surcharge        1 non-null float64\n",
      "total_amount                 1 non-null float64\n",
      "tpep_pickup_timestamp_ms     1 non-null int64\n",
      "tpep_dropoff_timestamp_ms    1 non-null int64\n",
      "dtypes: datetime64[ns](2), float64(12), int64(6), object(1)\n",
      "memory usage: 248.0+ bytes\n"
     ]
    }
   ],
   "source": [
    "clean_sdf.limit(1).toPandas().info()"
   ]
  },
  {
   "cell_type": "code",
   "execution_count": 189,
   "metadata": {},
   "outputs": [
    {
     "data": {
      "text/html": [
       "<div>\n",
       "<style>\n",
       "    .dataframe thead tr:only-child th {\n",
       "        text-align: right;\n",
       "    }\n",
       "\n",
       "    .dataframe thead th {\n",
       "        text-align: left;\n",
       "    }\n",
       "\n",
       "    .dataframe tbody tr th {\n",
       "        vertical-align: top;\n",
       "    }\n",
       "</style>\n",
       "<table border=\"1\" class=\"dataframe\">\n",
       "  <thead>\n",
       "    <tr style=\"text-align: right;\">\n",
       "      <th></th>\n",
       "      <th>VendorID</th>\n",
       "      <th>tpep_pickup_datetime</th>\n",
       "      <th>tpep_dropoff_datetime</th>\n",
       "      <th>passenger_count</th>\n",
       "      <th>trip_distance</th>\n",
       "      <th>pickup_longitude</th>\n",
       "      <th>pickup_latitude</th>\n",
       "      <th>RateCodeID</th>\n",
       "      <th>store_and_fwd_flag</th>\n",
       "      <th>dropoff_longitude</th>\n",
       "      <th>...</th>\n",
       "      <th>payment_type</th>\n",
       "      <th>fare_amount</th>\n",
       "      <th>extra</th>\n",
       "      <th>mta_tax</th>\n",
       "      <th>tip_amount</th>\n",
       "      <th>tolls_amount</th>\n",
       "      <th>improvement_surcharge</th>\n",
       "      <th>total_amount</th>\n",
       "      <th>tpep_pickup_timestamp_ms</th>\n",
       "      <th>tpep_dropoff_timestamp_ms</th>\n",
       "    </tr>\n",
       "  </thead>\n",
       "  <tbody>\n",
       "    <tr>\n",
       "      <th>0</th>\n",
       "      <td>1</td>\n",
       "      <td>2015-03-06 08:02:31</td>\n",
       "      <td>2015-03-06 08:09:55</td>\n",
       "      <td>1</td>\n",
       "      <td>1.2</td>\n",
       "      <td>-73.990211</td>\n",
       "      <td>40.750969</td>\n",
       "      <td>1</td>\n",
       "      <td>N</td>\n",
       "      <td>-73.987892</td>\n",
       "      <td>...</td>\n",
       "      <td>2</td>\n",
       "      <td>7.0</td>\n",
       "      <td>0.0</td>\n",
       "      <td>0.5</td>\n",
       "      <td>0.00</td>\n",
       "      <td>0.0</td>\n",
       "      <td>0.3</td>\n",
       "      <td>7.80</td>\n",
       "      <td>1425646951000</td>\n",
       "      <td>1425647395000</td>\n",
       "    </tr>\n",
       "    <tr>\n",
       "      <th>1</th>\n",
       "      <td>1</td>\n",
       "      <td>2015-03-06 08:02:31</td>\n",
       "      <td>2015-03-06 08:15:23</td>\n",
       "      <td>1</td>\n",
       "      <td>3.2</td>\n",
       "      <td>-73.935188</td>\n",
       "      <td>40.800720</td>\n",
       "      <td>1</td>\n",
       "      <td>N</td>\n",
       "      <td>-73.952553</td>\n",
       "      <td>...</td>\n",
       "      <td>2</td>\n",
       "      <td>11.5</td>\n",
       "      <td>0.0</td>\n",
       "      <td>0.5</td>\n",
       "      <td>0.00</td>\n",
       "      <td>0.0</td>\n",
       "      <td>0.3</td>\n",
       "      <td>12.30</td>\n",
       "      <td>1425646951000</td>\n",
       "      <td>1425647723000</td>\n",
       "    </tr>\n",
       "    <tr>\n",
       "      <th>2</th>\n",
       "      <td>1</td>\n",
       "      <td>2015-03-06 08:02:31</td>\n",
       "      <td>2015-03-06 08:12:27</td>\n",
       "      <td>1</td>\n",
       "      <td>1.1</td>\n",
       "      <td>-73.963753</td>\n",
       "      <td>40.767937</td>\n",
       "      <td>1</td>\n",
       "      <td>N</td>\n",
       "      <td>-73.956947</td>\n",
       "      <td>...</td>\n",
       "      <td>2</td>\n",
       "      <td>8.0</td>\n",
       "      <td>0.0</td>\n",
       "      <td>0.5</td>\n",
       "      <td>0.00</td>\n",
       "      <td>0.0</td>\n",
       "      <td>0.3</td>\n",
       "      <td>8.80</td>\n",
       "      <td>1425646951000</td>\n",
       "      <td>1425647547000</td>\n",
       "    </tr>\n",
       "    <tr>\n",
       "      <th>3</th>\n",
       "      <td>1</td>\n",
       "      <td>2015-03-06 08:02:31</td>\n",
       "      <td>2015-03-06 08:09:09</td>\n",
       "      <td>1</td>\n",
       "      <td>0.8</td>\n",
       "      <td>-73.997177</td>\n",
       "      <td>40.742168</td>\n",
       "      <td>1</td>\n",
       "      <td>N</td>\n",
       "      <td>-74.008064</td>\n",
       "      <td>...</td>\n",
       "      <td>1</td>\n",
       "      <td>6.0</td>\n",
       "      <td>0.0</td>\n",
       "      <td>0.5</td>\n",
       "      <td>1.00</td>\n",
       "      <td>0.0</td>\n",
       "      <td>0.3</td>\n",
       "      <td>7.80</td>\n",
       "      <td>1425646951000</td>\n",
       "      <td>1425647349000</td>\n",
       "    </tr>\n",
       "    <tr>\n",
       "      <th>4</th>\n",
       "      <td>1</td>\n",
       "      <td>2015-03-06 08:02:32</td>\n",
       "      <td>2015-03-06 08:19:37</td>\n",
       "      <td>1</td>\n",
       "      <td>2.7</td>\n",
       "      <td>-74.006844</td>\n",
       "      <td>40.730267</td>\n",
       "      <td>1</td>\n",
       "      <td>N</td>\n",
       "      <td>-73.976860</td>\n",
       "      <td>...</td>\n",
       "      <td>1</td>\n",
       "      <td>13.0</td>\n",
       "      <td>0.0</td>\n",
       "      <td>0.5</td>\n",
       "      <td>2.75</td>\n",
       "      <td>0.0</td>\n",
       "      <td>0.3</td>\n",
       "      <td>16.55</td>\n",
       "      <td>1425646952000</td>\n",
       "      <td>1425647977000</td>\n",
       "    </tr>\n",
       "  </tbody>\n",
       "</table>\n",
       "<p>5 rows × 21 columns</p>\n",
       "</div>"
      ],
      "text/plain": [
       "   VendorID tpep_pickup_datetime tpep_dropoff_datetime  passenger_count  \\\n",
       "0         1  2015-03-06 08:02:31   2015-03-06 08:09:55                1   \n",
       "1         1  2015-03-06 08:02:31   2015-03-06 08:15:23                1   \n",
       "2         1  2015-03-06 08:02:31   2015-03-06 08:12:27                1   \n",
       "3         1  2015-03-06 08:02:31   2015-03-06 08:09:09                1   \n",
       "4         1  2015-03-06 08:02:32   2015-03-06 08:19:37                1   \n",
       "\n",
       "   trip_distance  pickup_longitude  pickup_latitude  RateCodeID  \\\n",
       "0            1.2        -73.990211        40.750969           1   \n",
       "1            3.2        -73.935188        40.800720           1   \n",
       "2            1.1        -73.963753        40.767937           1   \n",
       "3            0.8        -73.997177        40.742168           1   \n",
       "4            2.7        -74.006844        40.730267           1   \n",
       "\n",
       "  store_and_fwd_flag  dropoff_longitude            ...              \\\n",
       "0                  N         -73.987892            ...               \n",
       "1                  N         -73.952553            ...               \n",
       "2                  N         -73.956947            ...               \n",
       "3                  N         -74.008064            ...               \n",
       "4                  N         -73.976860            ...               \n",
       "\n",
       "   payment_type  fare_amount  extra  mta_tax  tip_amount  tolls_amount  \\\n",
       "0             2          7.0    0.0      0.5        0.00           0.0   \n",
       "1             2         11.5    0.0      0.5        0.00           0.0   \n",
       "2             2          8.0    0.0      0.5        0.00           0.0   \n",
       "3             1          6.0    0.0      0.5        1.00           0.0   \n",
       "4             1         13.0    0.0      0.5        2.75           0.0   \n",
       "\n",
       "   improvement_surcharge  total_amount  tpep_pickup_timestamp_ms  \\\n",
       "0                    0.3          7.80             1425646951000   \n",
       "1                    0.3         12.30             1425646951000   \n",
       "2                    0.3          8.80             1425646951000   \n",
       "3                    0.3          7.80             1425646951000   \n",
       "4                    0.3         16.55             1425646952000   \n",
       "\n",
       "   tpep_dropoff_timestamp_ms  \n",
       "0              1425647395000  \n",
       "1              1425647723000  \n",
       "2              1425647547000  \n",
       "3              1425647349000  \n",
       "4              1425647977000  \n",
       "\n",
       "[5 rows x 21 columns]"
      ]
     },
     "execution_count": 189,
     "metadata": {},
     "output_type": "execute_result"
    }
   ],
   "source": [
    "clean_sdf.limit(5).toPandas()"
   ]
  },
  {
   "cell_type": "code",
   "execution_count": 213,
   "metadata": {
    "collapsed": true
   },
   "outputs": [],
   "source": [
    "end_timestamp = pd.Timestamp('2015-03-09 00:00:00').tz_localize('Etc/GMT+5')\n",
    "filtered_sdf = clean_sdf.filter('tpep_dropoff_timestamp_ms <= %d' % int(end_timestamp.value / 1e6) )"
   ]
  },
  {
   "cell_type": "code",
   "execution_count": 214,
   "metadata": {},
   "outputs": [
    {
     "data": {
      "text/plain": [
       "3333939"
      ]
     },
     "execution_count": 214,
     "metadata": {},
     "output_type": "execute_result"
    }
   ],
   "source": [
    "filtered_sdf.count()"
   ]
  },
  {
   "cell_type": "code",
   "execution_count": 215,
   "metadata": {},
   "outputs": [
    {
     "data": {
      "text/html": [
       "<div>\n",
       "<style>\n",
       "    .dataframe thead tr:only-child th {\n",
       "        text-align: right;\n",
       "    }\n",
       "\n",
       "    .dataframe thead th {\n",
       "        text-align: left;\n",
       "    }\n",
       "\n",
       "    .dataframe tbody tr th {\n",
       "        vertical-align: top;\n",
       "    }\n",
       "</style>\n",
       "<table border=\"1\" class=\"dataframe\">\n",
       "  <thead>\n",
       "    <tr style=\"text-align: right;\">\n",
       "      <th></th>\n",
       "      <th>VendorID</th>\n",
       "      <th>tpep_pickup_datetime</th>\n",
       "      <th>tpep_dropoff_datetime</th>\n",
       "      <th>passenger_count</th>\n",
       "      <th>trip_distance</th>\n",
       "      <th>pickup_longitude</th>\n",
       "      <th>pickup_latitude</th>\n",
       "      <th>RateCodeID</th>\n",
       "      <th>store_and_fwd_flag</th>\n",
       "      <th>dropoff_longitude</th>\n",
       "      <th>...</th>\n",
       "      <th>payment_type</th>\n",
       "      <th>fare_amount</th>\n",
       "      <th>extra</th>\n",
       "      <th>mta_tax</th>\n",
       "      <th>tip_amount</th>\n",
       "      <th>tolls_amount</th>\n",
       "      <th>improvement_surcharge</th>\n",
       "      <th>total_amount</th>\n",
       "      <th>tpep_pickup_timestamp_ms</th>\n",
       "      <th>tpep_dropoff_timestamp_ms</th>\n",
       "    </tr>\n",
       "  </thead>\n",
       "  <tbody>\n",
       "    <tr>\n",
       "      <th>0</th>\n",
       "      <td>1</td>\n",
       "      <td>2015-03-06 08:02:31</td>\n",
       "      <td>2015-03-06 08:09:55</td>\n",
       "      <td>1</td>\n",
       "      <td>1.2</td>\n",
       "      <td>-73.990211</td>\n",
       "      <td>40.750969</td>\n",
       "      <td>1</td>\n",
       "      <td>N</td>\n",
       "      <td>-73.987892</td>\n",
       "      <td>...</td>\n",
       "      <td>2</td>\n",
       "      <td>7.0</td>\n",
       "      <td>0.0</td>\n",
       "      <td>0.5</td>\n",
       "      <td>0.00</td>\n",
       "      <td>0.0</td>\n",
       "      <td>0.3</td>\n",
       "      <td>7.80</td>\n",
       "      <td>1425646951000</td>\n",
       "      <td>1425647395000</td>\n",
       "    </tr>\n",
       "    <tr>\n",
       "      <th>1</th>\n",
       "      <td>1</td>\n",
       "      <td>2015-03-06 08:02:31</td>\n",
       "      <td>2015-03-06 08:15:23</td>\n",
       "      <td>1</td>\n",
       "      <td>3.2</td>\n",
       "      <td>-73.935188</td>\n",
       "      <td>40.800720</td>\n",
       "      <td>1</td>\n",
       "      <td>N</td>\n",
       "      <td>-73.952553</td>\n",
       "      <td>...</td>\n",
       "      <td>2</td>\n",
       "      <td>11.5</td>\n",
       "      <td>0.0</td>\n",
       "      <td>0.5</td>\n",
       "      <td>0.00</td>\n",
       "      <td>0.0</td>\n",
       "      <td>0.3</td>\n",
       "      <td>12.30</td>\n",
       "      <td>1425646951000</td>\n",
       "      <td>1425647723000</td>\n",
       "    </tr>\n",
       "    <tr>\n",
       "      <th>2</th>\n",
       "      <td>1</td>\n",
       "      <td>2015-03-06 08:02:31</td>\n",
       "      <td>2015-03-06 08:12:27</td>\n",
       "      <td>1</td>\n",
       "      <td>1.1</td>\n",
       "      <td>-73.963753</td>\n",
       "      <td>40.767937</td>\n",
       "      <td>1</td>\n",
       "      <td>N</td>\n",
       "      <td>-73.956947</td>\n",
       "      <td>...</td>\n",
       "      <td>2</td>\n",
       "      <td>8.0</td>\n",
       "      <td>0.0</td>\n",
       "      <td>0.5</td>\n",
       "      <td>0.00</td>\n",
       "      <td>0.0</td>\n",
       "      <td>0.3</td>\n",
       "      <td>8.80</td>\n",
       "      <td>1425646951000</td>\n",
       "      <td>1425647547000</td>\n",
       "    </tr>\n",
       "    <tr>\n",
       "      <th>3</th>\n",
       "      <td>1</td>\n",
       "      <td>2015-03-06 08:02:31</td>\n",
       "      <td>2015-03-06 08:09:09</td>\n",
       "      <td>1</td>\n",
       "      <td>0.8</td>\n",
       "      <td>-73.997177</td>\n",
       "      <td>40.742168</td>\n",
       "      <td>1</td>\n",
       "      <td>N</td>\n",
       "      <td>-74.008064</td>\n",
       "      <td>...</td>\n",
       "      <td>1</td>\n",
       "      <td>6.0</td>\n",
       "      <td>0.0</td>\n",
       "      <td>0.5</td>\n",
       "      <td>1.00</td>\n",
       "      <td>0.0</td>\n",
       "      <td>0.3</td>\n",
       "      <td>7.80</td>\n",
       "      <td>1425646951000</td>\n",
       "      <td>1425647349000</td>\n",
       "    </tr>\n",
       "    <tr>\n",
       "      <th>4</th>\n",
       "      <td>1</td>\n",
       "      <td>2015-03-06 08:02:32</td>\n",
       "      <td>2015-03-06 08:19:37</td>\n",
       "      <td>1</td>\n",
       "      <td>2.7</td>\n",
       "      <td>-74.006844</td>\n",
       "      <td>40.730267</td>\n",
       "      <td>1</td>\n",
       "      <td>N</td>\n",
       "      <td>-73.976860</td>\n",
       "      <td>...</td>\n",
       "      <td>1</td>\n",
       "      <td>13.0</td>\n",
       "      <td>0.0</td>\n",
       "      <td>0.5</td>\n",
       "      <td>2.75</td>\n",
       "      <td>0.0</td>\n",
       "      <td>0.3</td>\n",
       "      <td>16.55</td>\n",
       "      <td>1425646952000</td>\n",
       "      <td>1425647977000</td>\n",
       "    </tr>\n",
       "  </tbody>\n",
       "</table>\n",
       "<p>5 rows × 21 columns</p>\n",
       "</div>"
      ],
      "text/plain": [
       "   VendorID tpep_pickup_datetime tpep_dropoff_datetime  passenger_count  \\\n",
       "0         1  2015-03-06 08:02:31   2015-03-06 08:09:55                1   \n",
       "1         1  2015-03-06 08:02:31   2015-03-06 08:15:23                1   \n",
       "2         1  2015-03-06 08:02:31   2015-03-06 08:12:27                1   \n",
       "3         1  2015-03-06 08:02:31   2015-03-06 08:09:09                1   \n",
       "4         1  2015-03-06 08:02:32   2015-03-06 08:19:37                1   \n",
       "\n",
       "   trip_distance  pickup_longitude  pickup_latitude  RateCodeID  \\\n",
       "0            1.2        -73.990211        40.750969           1   \n",
       "1            3.2        -73.935188        40.800720           1   \n",
       "2            1.1        -73.963753        40.767937           1   \n",
       "3            0.8        -73.997177        40.742168           1   \n",
       "4            2.7        -74.006844        40.730267           1   \n",
       "\n",
       "  store_and_fwd_flag  dropoff_longitude            ...              \\\n",
       "0                  N         -73.987892            ...               \n",
       "1                  N         -73.952553            ...               \n",
       "2                  N         -73.956947            ...               \n",
       "3                  N         -74.008064            ...               \n",
       "4                  N         -73.976860            ...               \n",
       "\n",
       "   payment_type  fare_amount  extra  mta_tax  tip_amount  tolls_amount  \\\n",
       "0             2          7.0    0.0      0.5        0.00           0.0   \n",
       "1             2         11.5    0.0      0.5        0.00           0.0   \n",
       "2             2          8.0    0.0      0.5        0.00           0.0   \n",
       "3             1          6.0    0.0      0.5        1.00           0.0   \n",
       "4             1         13.0    0.0      0.5        2.75           0.0   \n",
       "\n",
       "   improvement_surcharge  total_amount  tpep_pickup_timestamp_ms  \\\n",
       "0                    0.3          7.80             1425646951000   \n",
       "1                    0.3         12.30             1425646951000   \n",
       "2                    0.3          8.80             1425646951000   \n",
       "3                    0.3          7.80             1425646951000   \n",
       "4                    0.3         16.55             1425646952000   \n",
       "\n",
       "   tpep_dropoff_timestamp_ms  \n",
       "0              1425647395000  \n",
       "1              1425647723000  \n",
       "2              1425647547000  \n",
       "3              1425647349000  \n",
       "4              1425647977000  \n",
       "\n",
       "[5 rows x 21 columns]"
      ]
     },
     "execution_count": 215,
     "metadata": {},
     "output_type": "execute_result"
    }
   ],
   "source": [
    "filtered_sdf.limit(5).toPandas()"
   ]
  },
  {
   "cell_type": "code",
   "execution_count": 229,
   "metadata": {
    "collapsed": true
   },
   "outputs": [],
   "source": [
    "def create_events(trip_record):\n",
    "    events = []\n",
    "    trip_id = str(uuid.uuid4())\n",
    "    pickup_datetime = trip_record.tpep_pickup_timestamp_ms\n",
    "    dropoff_datetime = trip_record.tpep_dropoff_timestamp_ms\n",
    "    events.append({\n",
    "        'event_type': 'pickup',\n",
    "        'timestamp': pickup_datetime,\n",
    "        'trip_fraction': 0.0,\n",
    "        'trip_id': trip_id,\n",
    "        'lat': trip_record.pickup_latitude,\n",
    "        'lon': trip_record.pickup_longitude,\n",
    "        'passenger_count': trip_record.passenger_count,\n",
    "        'trip_distance': 0.0,\n",
    "        'trip_duration_minutes': 0.0,\n",
    "        'total_amount': 0.0,\n",
    "    })\n",
    "    \n",
    "    # Create route events every 1 minute.\n",
    "    # Assume that route is a straight line from pickup to dropoff.\n",
    "    trip_duration = dropoff_datetime - pickup_datetime\n",
    "    report_period_mean = 1*60*1000\n",
    "    report_timestamp = pickup_datetime\n",
    "    while True:\n",
    "        # The next report period is a random number. This allows us to get timestamps with non-zero milliseconds.\n",
    "        report_period = random.randint(0, 2*report_period_mean)\n",
    "        report_timestamp += report_period\n",
    "        if report_timestamp >= dropoff_datetime:\n",
    "            break\n",
    "        trip_fraction = (report_timestamp - pickup_datetime) / trip_duration\n",
    "        events.append({\n",
    "            'event_type': 'route',\n",
    "            'timestamp': report_timestamp,\n",
    "            'trip_fraction': trip_fraction,\n",
    "            'trip_id': trip_id,\n",
    "            'lat': trip_record.pickup_latitude + (trip_record.dropoff_latitude - trip_record.pickup_latitude) * trip_fraction,\n",
    "            'lon': trip_record.pickup_longitude + (trip_record.dropoff_longitude - trip_record.pickup_longitude) * trip_fraction,\n",
    "            'passenger_count': trip_record.passenger_count,\n",
    "            'trip_distance': 0.0,\n",
    "            'trip_duration_minutes': 0.0,\n",
    "            'total_amount': 0.0,\n",
    "        })\n",
    "\n",
    "    events.append({\n",
    "        'event_type': 'dropoff',\n",
    "        'timestamp': dropoff_datetime,\n",
    "        'trip_fraction': 1.0,\n",
    "        'trip_id': trip_id,\n",
    "        'lat': trip_record.dropoff_latitude,\n",
    "        'lon': trip_record.dropoff_longitude,\n",
    "        'passenger_count': trip_record.passenger_count,\n",
    "        'trip_distance': trip_record.trip_distance,\n",
    "        'trip_duration_minutes': trip_duration / (60*1000),\n",
    "        'total_amount': trip_record.total_amount,\n",
    "    })\n",
    "    rows = [Row(**event) for event in events]\n",
    "    return rows"
   ]
  },
  {
   "cell_type": "code",
   "execution_count": 230,
   "metadata": {},
   "outputs": [
    {
     "name": "stdout",
     "output_type": "stream",
     "text": [
      "CPU times: user 0 ns, sys: 0 ns, total: 0 ns\n",
      "Wall time: 172 µs\n"
     ]
    }
   ],
   "source": [
    "%%time\n",
    "all_events_rdd = filtered_sdf.rdd.flatMap(create_events)"
   ]
  },
  {
   "cell_type": "code",
   "execution_count": 231,
   "metadata": {},
   "outputs": [
    {
     "data": {
      "text/plain": [
       "[Row(event_type='pickup', lat=40.75096893310547, lon=-73.9902114868164, passenger_count=1, timestamp=1425646951000, total_amount=0.0, trip_distance=0.0, trip_duration_minutes=0.0, trip_fraction=0.0, trip_id='0198c7b9-957f-49ad-a555-c6eb2946549e'),\n",
       " Row(event_type='route', lat=40.74926344691096, lon=-73.98990560610659, passenger_count=1, timestamp=1425647009556, total_amount=0.0, trip_distance=0.0, trip_duration_minutes=0.0, trip_fraction=0.13188288288288288, trip_id='0198c7b9-957f-49ad-a555-c6eb2946549e')]"
      ]
     },
     "execution_count": 231,
     "metadata": {},
     "output_type": "execute_result"
    }
   ],
   "source": [
    "all_events_rdd.take(2)"
   ]
  },
  {
   "cell_type": "code",
   "execution_count": 232,
   "metadata": {},
   "outputs": [
    {
     "name": "stdout",
     "output_type": "stream",
     "text": [
      "CPU times: user 20 ms, sys: 4 ms, total: 24 ms\n",
      "Wall time: 94.4 ms\n"
     ]
    }
   ],
   "source": [
    "%%time\n",
    "all_events_sdf = sql_sc.createDataFrame(all_events_rdd)"
   ]
  },
  {
   "cell_type": "code",
   "execution_count": 233,
   "metadata": {},
   "outputs": [
    {
     "name": "stdout",
     "output_type": "stream",
     "text": [
      "+----------+------------------+------------------+---------------+-------------+------------+-------------+---------------------+-------------------+--------------------+\n",
      "|event_type|               lat|               lon|passenger_count|    timestamp|total_amount|trip_distance|trip_duration_minutes|      trip_fraction|             trip_id|\n",
      "+----------+------------------+------------------+---------------+-------------+------------+-------------+---------------------+-------------------+--------------------+\n",
      "|    pickup| 40.75096893310547| -73.9902114868164|              1|1425646951000|         0.0|          0.0|                  0.0|                0.0|90b7ec34-04fb-435...|\n",
      "|     route| 40.74926344691096|-73.98990560610659|              1|1425647009556|         0.0|          0.0|                  0.0|0.13188288288288288|90b7ec34-04fb-435...|\n",
      "|     route| 40.74814647519911|-73.98970527607686|              1|1425647047906|         0.0|          0.0|                  0.0|0.21825675675675676|90b7ec34-04fb-435...|\n",
      "|     route|40.745585158580056| -73.9892459012968|              1|1425647135846|         0.0|          0.0|                  0.0| 0.4163198198198198|90b7ec34-04fb-435...|\n",
      "|     route|40.742900290618074|-73.98876436745583|              1|1425647228028|         0.0|          0.0|                  0.0|  0.623936936936937|90b7ec34-04fb-435...|\n",
      "|     route| 40.74148192586126| -73.9885099822723|              1|1425647276726|         0.0|          0.0|                  0.0| 0.7336171171171171|90b7ec34-04fb-435...|\n",
      "|     route| 40.74035930375795|-73.98830863883903|              1|1425647315270|         0.0|          0.0|                  0.0|  0.820427927927928|90b7ec34-04fb-435...|\n",
      "|     route| 40.73930608826715|-73.98811974355337|              1|1425647351431|         0.0|          0.0|                  0.0| 0.9018716216216216|90b7ec34-04fb-435...|\n",
      "|   dropoff|   40.738037109375| -73.9878921508789|              1|1425647395000|         7.8|          1.2|                  7.4|                1.0|90b7ec34-04fb-435...|\n",
      "|    pickup| 40.80072021484375|-73.93518829345703|              1|1425646951000|         0.0|          0.0|                  0.0|                0.0|8bb4a3f8-f6db-4e5...|\n",
      "|     route| 40.79556733871618| -73.9377196869529|              1|1425647063542|         0.0|          0.0|                  0.0|  0.145779792746114|8bb4a3f8-f6db-4e5...|\n",
      "|     route| 40.79320229576783|-73.93888153408228|              1|1425647115196|         0.0|          0.0|                  0.0|0.21268911917098446|8bb4a3f8-f6db-4e5...|\n",
      "|     route| 40.78772520720526|-73.94157219964853|              1|1425647234819|         0.0|          0.0|                  0.0|0.36764119170984455|8bb4a3f8-f6db-4e5...|\n",
      "|     route| 40.78287557341027|-73.94395462281223|              1|1425647340738|         0.0|          0.0|                  0.0| 0.5048419689119171|8bb4a3f8-f6db-4e5...|\n",
      "|     route|40.777429756856336|-73.94662992574267|              1|1425647459678|         0.0|          0.0|                  0.0| 0.6589093264248704|8bb4a3f8-f6db-4e5...|\n",
      "|     route| 40.77567962324311|-73.94748969351814|              1|1425647497902|         0.0|          0.0|                  0.0| 0.7084222797927461|8bb4a3f8-f6db-4e5...|\n",
      "|     route|40.773383992249485| -73.9486174414442|              1|1425647548040|         0.0|          0.0|                  0.0| 0.7733678756476684|8bb4a3f8-f6db-4e5...|\n",
      "|     route| 40.76810305198116|-73.95121174752033|              1|1425647663379|         0.0|          0.0|                  0.0|  0.922770725388601|8bb4a3f8-f6db-4e5...|\n",
      "|   dropoff| 40.76537322998047|-73.95255279541016|              1|1425647723000|        12.3|          3.2|   12.866666666666667|                1.0|8bb4a3f8-f6db-4e5...|\n",
      "|    pickup| 40.76793670654297|-73.96375274658203|              1|1425646951000|         0.0|          0.0|                  0.0|                0.0|f6689cf9-e7e4-466...|\n",
      "+----------+------------------+------------------+---------------+-------------+------------+-------------+---------------------+-------------------+--------------------+\n",
      "only showing top 20 rows\n",
      "\n"
     ]
    }
   ],
   "source": [
    "all_events_sdf.show()"
   ]
  },
  {
   "cell_type": "code",
   "execution_count": 234,
   "metadata": {
    "collapsed": true
   },
   "outputs": [],
   "source": [
    "all_events2_sdf = all_events_sdf.withColumn('timestamp_str',  from_unixtime(all_events_sdf['timestamp' ] / 1000))"
   ]
  },
  {
   "cell_type": "code",
   "execution_count": 235,
   "metadata": {},
   "outputs": [
    {
     "name": "stdout",
     "output_type": "stream",
     "text": [
      "+----------+------------------+------------------+---------------+-------------+------------+-------------+---------------------+-------------------+--------------------+-------------------+\n",
      "|event_type|               lat|               lon|passenger_count|    timestamp|total_amount|trip_distance|trip_duration_minutes|      trip_fraction|             trip_id|      timestamp_str|\n",
      "+----------+------------------+------------------+---------------+-------------+------------+-------------+---------------------+-------------------+--------------------+-------------------+\n",
      "|    pickup| 40.75096893310547| -73.9902114868164|              1|1425646951000|         0.0|          0.0|                  0.0|                0.0|34a66b63-42d6-473...|2015-03-06 13:02:31|\n",
      "|     route| 40.74926344691096|-73.98990560610659|              1|1425647009556|         0.0|          0.0|                  0.0|0.13188288288288288|34a66b63-42d6-473...|2015-03-06 13:03:29|\n",
      "|     route| 40.74814647519911|-73.98970527607686|              1|1425647047906|         0.0|          0.0|                  0.0|0.21825675675675676|34a66b63-42d6-473...|2015-03-06 13:04:07|\n",
      "|     route|40.745585158580056| -73.9892459012968|              1|1425647135846|         0.0|          0.0|                  0.0| 0.4163198198198198|34a66b63-42d6-473...|2015-03-06 13:05:35|\n",
      "|     route|40.742900290618074|-73.98876436745583|              1|1425647228028|         0.0|          0.0|                  0.0|  0.623936936936937|34a66b63-42d6-473...|2015-03-06 13:07:08|\n",
      "|     route| 40.74148192586126| -73.9885099822723|              1|1425647276726|         0.0|          0.0|                  0.0| 0.7336171171171171|34a66b63-42d6-473...|2015-03-06 13:07:56|\n",
      "|     route| 40.74035930375795|-73.98830863883903|              1|1425647315270|         0.0|          0.0|                  0.0|  0.820427927927928|34a66b63-42d6-473...|2015-03-06 13:08:35|\n",
      "|     route| 40.73930608826715|-73.98811974355337|              1|1425647351431|         0.0|          0.0|                  0.0| 0.9018716216216216|34a66b63-42d6-473...|2015-03-06 13:09:11|\n",
      "|   dropoff|   40.738037109375| -73.9878921508789|              1|1425647395000|         7.8|          1.2|                  7.4|                1.0|34a66b63-42d6-473...|2015-03-06 13:09:55|\n",
      "|    pickup| 40.80072021484375|-73.93518829345703|              1|1425646951000|         0.0|          0.0|                  0.0|                0.0|6ca58e59-a2a5-41f...|2015-03-06 13:02:31|\n",
      "|     route| 40.79556733871618| -73.9377196869529|              1|1425647063542|         0.0|          0.0|                  0.0|  0.145779792746114|6ca58e59-a2a5-41f...|2015-03-06 13:04:23|\n",
      "|     route| 40.79320229576783|-73.93888153408228|              1|1425647115196|         0.0|          0.0|                  0.0|0.21268911917098446|6ca58e59-a2a5-41f...|2015-03-06 13:05:15|\n",
      "|     route| 40.78772520720526|-73.94157219964853|              1|1425647234819|         0.0|          0.0|                  0.0|0.36764119170984455|6ca58e59-a2a5-41f...|2015-03-06 13:07:14|\n",
      "|     route| 40.78287557341027|-73.94395462281223|              1|1425647340738|         0.0|          0.0|                  0.0| 0.5048419689119171|6ca58e59-a2a5-41f...|2015-03-06 13:09:00|\n",
      "|     route|40.777429756856336|-73.94662992574267|              1|1425647459678|         0.0|          0.0|                  0.0| 0.6589093264248704|6ca58e59-a2a5-41f...|2015-03-06 13:10:59|\n",
      "|     route| 40.77567962324311|-73.94748969351814|              1|1425647497902|         0.0|          0.0|                  0.0| 0.7084222797927461|6ca58e59-a2a5-41f...|2015-03-06 13:11:37|\n",
      "|     route|40.773383992249485| -73.9486174414442|              1|1425647548040|         0.0|          0.0|                  0.0| 0.7733678756476684|6ca58e59-a2a5-41f...|2015-03-06 13:12:28|\n",
      "|     route| 40.76810305198116|-73.95121174752033|              1|1425647663379|         0.0|          0.0|                  0.0|  0.922770725388601|6ca58e59-a2a5-41f...|2015-03-06 13:14:23|\n",
      "|   dropoff| 40.76537322998047|-73.95255279541016|              1|1425647723000|        12.3|          3.2|   12.866666666666667|                1.0|6ca58e59-a2a5-41f...|2015-03-06 13:15:23|\n",
      "|    pickup| 40.76793670654297|-73.96375274658203|              1|1425646951000|         0.0|          0.0|                  0.0|                0.0|018e8991-22e9-429...|2015-03-06 13:02:31|\n",
      "+----------+------------------+------------------+---------------+-------------+------------+-------------+---------------------+-------------------+--------------------+-------------------+\n",
      "only showing top 20 rows\n",
      "\n"
     ]
    }
   ],
   "source": [
    "all_events2_sdf.show()"
   ]
  },
  {
   "cell_type": "code",
   "execution_count": 236,
   "metadata": {},
   "outputs": [
    {
     "name": "stdout",
     "output_type": "stream",
     "text": [
      "CPU times: user 4 ms, sys: 0 ns, total: 4 ms\n",
      "Wall time: 10.3 ms\n"
     ]
    }
   ],
   "source": [
    "%%time\n",
    "sorted_sdf = all_events2_sdf.orderBy('timestamp')"
   ]
  },
  {
   "cell_type": "code",
   "execution_count": 237,
   "metadata": {},
   "outputs": [
    {
     "name": "stdout",
     "output_type": "stream",
     "text": [
      "CPU times: user 168 ms, sys: 40 ms, total: 208 ms\n",
      "Wall time: 13min 54s\n"
     ]
    }
   ],
   "source": [
    "%%time\n",
    "sorted_sdf.write.mode('overwrite').format('json').save('data.json')"
   ]
  },
  {
   "cell_type": "markdown",
   "metadata": {},
   "source": [
    "# Playground"
   ]
  },
  {
   "cell_type": "code",
   "execution_count": null,
   "metadata": {
    "collapsed": true
   },
   "outputs": [],
   "source": []
  }
 ],
 "metadata": {
  "kernelspec": {
   "display_name": "Python 3",
   "language": "python",
   "name": "python3"
  },
  "language_info": {
   "codemirror_mode": {
    "name": "ipython",
    "version": 3
   },
   "file_extension": ".py",
   "mimetype": "text/x-python",
   "name": "python",
   "nbconvert_exporter": "python",
   "pygments_lexer": "ipython3",
   "version": "3.6.1"
  }
 },
 "nbformat": 4,
 "nbformat_minor": 2
}
