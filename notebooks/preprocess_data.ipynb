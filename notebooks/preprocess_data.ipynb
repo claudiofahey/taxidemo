{
 "cells": [
  {
   "cell_type": "code",
   "execution_count": 1,
   "metadata": {
    "collapsed": true
   },
   "outputs": [],
   "source": [
    "import pandas as pd\n",
    "import numpy as np\n",
    "import glob\n",
    "import os\n",
    "import bz2\n",
    "import codecs\n",
    "import json\n",
    "import matplotlib.pylab as plt\n",
    "import uuid\n",
    "%matplotlib inline"
   ]
  },
  {
   "cell_type": "code",
   "execution_count": 2,
   "metadata": {},
   "outputs": [
    {
     "name": "stdout",
     "output_type": "stream",
     "text": [
      "CPU times: user 49.5 s, sys: 4.83 s, total: 54.3 s\n",
      "Wall time: 54.6 s\n"
     ]
    }
   ],
   "source": [
    "%%time\n",
    "infilename = 'yellow_tripdata_2015-03.csv'\n",
    "raw_df = pd.read_csv(infilename)"
   ]
  },
  {
   "cell_type": "code",
   "execution_count": 3,
   "metadata": {},
   "outputs": [
    {
     "name": "stdout",
     "output_type": "stream",
     "text": [
      "<class 'pandas.core.frame.DataFrame'>\n",
      "RangeIndex: 13351609 entries, 0 to 13351608\n",
      "Data columns (total 19 columns):\n",
      "VendorID                 int64\n",
      "tpep_pickup_datetime     object\n",
      "tpep_dropoff_datetime    object\n",
      "passenger_count          int64\n",
      "trip_distance            float64\n",
      "pickup_longitude         float64\n",
      "pickup_latitude          float64\n",
      "RateCodeID               int64\n",
      "store_and_fwd_flag       object\n",
      "dropoff_longitude        float64\n",
      "dropoff_latitude         float64\n",
      "payment_type             int64\n",
      "fare_amount              float64\n",
      "extra                    float64\n",
      "mta_tax                  float64\n",
      "tip_amount               float64\n",
      "tolls_amount             float64\n",
      "improvement_surcharge    float64\n",
      "total_amount             float64\n",
      "dtypes: float64(12), int64(4), object(3)\n",
      "memory usage: 1.9+ GB\n"
     ]
    }
   ],
   "source": [
    "raw_df.info()"
   ]
  },
  {
   "cell_type": "code",
   "execution_count": 4,
   "metadata": {
    "collapsed": true
   },
   "outputs": [],
   "source": [
    "def clean_data(df):\n",
    "    df['tpep_pickup_datetime'] = pd.to_datetime(df['tpep_pickup_datetime'].values).tz_localize('Etc/GMT+5')\n",
    "    df['tpep_dropoff_datetime'] = pd.to_datetime(df['tpep_dropoff_datetime'].values).tz_localize('Etc/GMT+5')\n",
    "    return df"
   ]
  },
  {
   "cell_type": "code",
   "execution_count": 82,
   "metadata": {
    "collapsed": true
   },
   "outputs": [],
   "source": [
    "# df = raw_df.head(1).copy()\n",
    "df = raw_df.copy()"
   ]
  },
  {
   "cell_type": "code",
   "execution_count": 83,
   "metadata": {},
   "outputs": [
    {
     "data": {
      "text/html": [
       "<div>\n",
       "<style>\n",
       "    .dataframe thead tr:only-child th {\n",
       "        text-align: right;\n",
       "    }\n",
       "\n",
       "    .dataframe thead th {\n",
       "        text-align: left;\n",
       "    }\n",
       "\n",
       "    .dataframe tbody tr th {\n",
       "        vertical-align: top;\n",
       "    }\n",
       "</style>\n",
       "<table border=\"1\" class=\"dataframe\">\n",
       "  <thead>\n",
       "    <tr style=\"text-align: right;\">\n",
       "      <th></th>\n",
       "      <th>VendorID</th>\n",
       "      <th>tpep_pickup_datetime</th>\n",
       "      <th>tpep_dropoff_datetime</th>\n",
       "      <th>passenger_count</th>\n",
       "      <th>trip_distance</th>\n",
       "      <th>pickup_longitude</th>\n",
       "      <th>pickup_latitude</th>\n",
       "      <th>RateCodeID</th>\n",
       "      <th>store_and_fwd_flag</th>\n",
       "      <th>dropoff_longitude</th>\n",
       "      <th>dropoff_latitude</th>\n",
       "      <th>payment_type</th>\n",
       "      <th>fare_amount</th>\n",
       "      <th>extra</th>\n",
       "      <th>mta_tax</th>\n",
       "      <th>tip_amount</th>\n",
       "      <th>tolls_amount</th>\n",
       "      <th>improvement_surcharge</th>\n",
       "      <th>total_amount</th>\n",
       "    </tr>\n",
       "  </thead>\n",
       "  <tbody>\n",
       "    <tr>\n",
       "      <th>0</th>\n",
       "      <td>1</td>\n",
       "      <td>2015-03-06 08:02:31-05:00</td>\n",
       "      <td>2015-03-06 08:09:55-05:00</td>\n",
       "      <td>1</td>\n",
       "      <td>1.2</td>\n",
       "      <td>-73.990211</td>\n",
       "      <td>40.750969</td>\n",
       "      <td>1</td>\n",
       "      <td>N</td>\n",
       "      <td>-73.987892</td>\n",
       "      <td>40.738037</td>\n",
       "      <td>2</td>\n",
       "      <td>7.0</td>\n",
       "      <td>0.0</td>\n",
       "      <td>0.5</td>\n",
       "      <td>0.00</td>\n",
       "      <td>0.0</td>\n",
       "      <td>0.3</td>\n",
       "      <td>7.80</td>\n",
       "    </tr>\n",
       "    <tr>\n",
       "      <th>1</th>\n",
       "      <td>1</td>\n",
       "      <td>2015-03-06 08:02:31-05:00</td>\n",
       "      <td>2015-03-06 08:15:23-05:00</td>\n",
       "      <td>1</td>\n",
       "      <td>3.2</td>\n",
       "      <td>-73.935188</td>\n",
       "      <td>40.800720</td>\n",
       "      <td>1</td>\n",
       "      <td>N</td>\n",
       "      <td>-73.952553</td>\n",
       "      <td>40.765373</td>\n",
       "      <td>2</td>\n",
       "      <td>11.5</td>\n",
       "      <td>0.0</td>\n",
       "      <td>0.5</td>\n",
       "      <td>0.00</td>\n",
       "      <td>0.0</td>\n",
       "      <td>0.3</td>\n",
       "      <td>12.30</td>\n",
       "    </tr>\n",
       "    <tr>\n",
       "      <th>2</th>\n",
       "      <td>1</td>\n",
       "      <td>2015-03-06 08:02:31-05:00</td>\n",
       "      <td>2015-03-06 08:12:27-05:00</td>\n",
       "      <td>1</td>\n",
       "      <td>1.1</td>\n",
       "      <td>-73.963753</td>\n",
       "      <td>40.767937</td>\n",
       "      <td>1</td>\n",
       "      <td>N</td>\n",
       "      <td>-73.956947</td>\n",
       "      <td>40.780270</td>\n",
       "      <td>2</td>\n",
       "      <td>8.0</td>\n",
       "      <td>0.0</td>\n",
       "      <td>0.5</td>\n",
       "      <td>0.00</td>\n",
       "      <td>0.0</td>\n",
       "      <td>0.3</td>\n",
       "      <td>8.80</td>\n",
       "    </tr>\n",
       "    <tr>\n",
       "      <th>3</th>\n",
       "      <td>1</td>\n",
       "      <td>2015-03-06 08:02:31-05:00</td>\n",
       "      <td>2015-03-06 08:09:09-05:00</td>\n",
       "      <td>1</td>\n",
       "      <td>0.8</td>\n",
       "      <td>-73.997177</td>\n",
       "      <td>40.742168</td>\n",
       "      <td>1</td>\n",
       "      <td>N</td>\n",
       "      <td>-74.008064</td>\n",
       "      <td>40.739281</td>\n",
       "      <td>1</td>\n",
       "      <td>6.0</td>\n",
       "      <td>0.0</td>\n",
       "      <td>0.5</td>\n",
       "      <td>1.00</td>\n",
       "      <td>0.0</td>\n",
       "      <td>0.3</td>\n",
       "      <td>7.80</td>\n",
       "    </tr>\n",
       "    <tr>\n",
       "      <th>4</th>\n",
       "      <td>1</td>\n",
       "      <td>2015-03-06 08:02:32-05:00</td>\n",
       "      <td>2015-03-06 08:19:37-05:00</td>\n",
       "      <td>1</td>\n",
       "      <td>2.7</td>\n",
       "      <td>-74.006844</td>\n",
       "      <td>40.730267</td>\n",
       "      <td>1</td>\n",
       "      <td>N</td>\n",
       "      <td>-73.976860</td>\n",
       "      <td>40.750671</td>\n",
       "      <td>1</td>\n",
       "      <td>13.0</td>\n",
       "      <td>0.0</td>\n",
       "      <td>0.5</td>\n",
       "      <td>2.75</td>\n",
       "      <td>0.0</td>\n",
       "      <td>0.3</td>\n",
       "      <td>16.55</td>\n",
       "    </tr>\n",
       "  </tbody>\n",
       "</table>\n",
       "</div>"
      ],
      "text/plain": [
       "   VendorID      tpep_pickup_datetime     tpep_dropoff_datetime  \\\n",
       "0         1 2015-03-06 08:02:31-05:00 2015-03-06 08:09:55-05:00   \n",
       "1         1 2015-03-06 08:02:31-05:00 2015-03-06 08:15:23-05:00   \n",
       "2         1 2015-03-06 08:02:31-05:00 2015-03-06 08:12:27-05:00   \n",
       "3         1 2015-03-06 08:02:31-05:00 2015-03-06 08:09:09-05:00   \n",
       "4         1 2015-03-06 08:02:32-05:00 2015-03-06 08:19:37-05:00   \n",
       "\n",
       "   passenger_count  trip_distance  pickup_longitude  pickup_latitude  \\\n",
       "0                1            1.2        -73.990211        40.750969   \n",
       "1                1            3.2        -73.935188        40.800720   \n",
       "2                1            1.1        -73.963753        40.767937   \n",
       "3                1            0.8        -73.997177        40.742168   \n",
       "4                1            2.7        -74.006844        40.730267   \n",
       "\n",
       "   RateCodeID store_and_fwd_flag  dropoff_longitude  dropoff_latitude  \\\n",
       "0           1                  N         -73.987892         40.738037   \n",
       "1           1                  N         -73.952553         40.765373   \n",
       "2           1                  N         -73.956947         40.780270   \n",
       "3           1                  N         -74.008064         40.739281   \n",
       "4           1                  N         -73.976860         40.750671   \n",
       "\n",
       "   payment_type  fare_amount  extra  mta_tax  tip_amount  tolls_amount  \\\n",
       "0             2          7.0    0.0      0.5        0.00           0.0   \n",
       "1             2         11.5    0.0      0.5        0.00           0.0   \n",
       "2             2          8.0    0.0      0.5        0.00           0.0   \n",
       "3             1          6.0    0.0      0.5        1.00           0.0   \n",
       "4             1         13.0    0.0      0.5        2.75           0.0   \n",
       "\n",
       "   improvement_surcharge  total_amount  \n",
       "0                    0.3          7.80  \n",
       "1                    0.3         12.30  \n",
       "2                    0.3          8.80  \n",
       "3                    0.3          7.80  \n",
       "4                    0.3         16.55  "
      ]
     },
     "execution_count": 83,
     "metadata": {},
     "output_type": "execute_result"
    }
   ],
   "source": [
    "%%time\n",
    "df = clean_data(df)\n",
    "df.head()"
   ]
  },
  {
   "cell_type": "code",
   "execution_count": 84,
   "metadata": {},
   "outputs": [
    {
     "data": {
      "text/plain": [
       "1168099"
      ]
     },
     "execution_count": 84,
     "metadata": {},
     "output_type": "execute_result"
    }
   ],
   "source": [
    "df = df[df.tpep_dropoff_datetime < pd.to_datetime('2015-03-04 00:00:00-05:00', utc=True)]\n",
    "len(df)"
   ]
  },
  {
   "cell_type": "code",
   "execution_count": 85,
   "metadata": {
    "collapsed": true
   },
   "outputs": [],
   "source": [
    "def create_events(trip_record):\n",
    "    events = []\n",
    "    trip_id = str(uuid.uuid4())\n",
    "    events.append({\n",
    "        'event_type': 'pickup',\n",
    "        'timestamp': trip_record.tpep_pickup_datetime,\n",
    "        'trip_fraction': 0.0,\n",
    "        'trip_id': trip_id,\n",
    "        'location': {\n",
    "            'lat': trip_record.pickup_latitude,\n",
    "            'lon': trip_record.pickup_longitude,\n",
    "        },\n",
    "        'passenger_count': trip_record.passenger_count,\n",
    "    })\n",
    "    \n",
    "    # Create route events every 1 minute.\n",
    "    # Assume that route is a straight line from pickup to dropoff.\n",
    "    trip_duration = trip_record.tpep_dropoff_datetime - trip_record.tpep_pickup_datetime\n",
    "    report_period = pd.Timedelta(1, 'm')\n",
    "    report_timestamp = trip_record.tpep_pickup_datetime\n",
    "    while True:\n",
    "        report_timestamp += report_period\n",
    "        if report_timestamp >= trip_record.tpep_dropoff_datetime:\n",
    "            break\n",
    "        trip_fraction = (report_timestamp - trip_record.tpep_pickup_datetime) / trip_duration\n",
    "        events.append({\n",
    "            'event_type': 'route',\n",
    "            'timestamp': report_timestamp,\n",
    "            'trip_fraction': trip_fraction,\n",
    "            'trip_id': trip_id,\n",
    "            'location': {\n",
    "                'lat': trip_record.pickup_latitude + (trip_record.dropoff_latitude - trip_record.pickup_latitude) * trip_fraction,\n",
    "                'lon': trip_record.pickup_longitude + (trip_record.dropoff_longitude - trip_record.pickup_longitude) * trip_fraction,\n",
    "            },\n",
    "            'passenger_count': trip_record.passenger_count,\n",
    "        })\n",
    "\n",
    "    events.append({\n",
    "        'event_type': 'dropoff',\n",
    "        'timestamp': trip_record.tpep_dropoff_datetime,\n",
    "        'trip_fraction': 1.0,\n",
    "        'trip_id': trip_id,\n",
    "        'location': {\n",
    "            'lat': trip_record.dropoff_latitude,\n",
    "            'lon': trip_record.dropoff_longitude,\n",
    "        },\n",
    "        'passenger_count': trip_record.passenger_count,\n",
    "        'trip_distance': trip_record.trip_distance,\n",
    "        'trip_duration_minutes': trip_duration / pd.Timedelta(1, 'm'),\n",
    "        'total_amount': trip_record.total_amount,\n",
    "    })\n",
    "    return events"
   ]
  },
  {
   "cell_type": "code",
   "execution_count": 86,
   "metadata": {
    "collapsed": true
   },
   "outputs": [
    {
     "data": {
      "text/plain": [
       "[{'event_type': 'pickup',\n",
       "  'location': {'lat': 40.774150848388672, 'lon': -73.872817993164062},\n",
       "  'passenger_count': 1,\n",
       "  'timestamp': Timestamp('2015-03-03 18:17:50-0500', tz='Etc/GMT+5'),\n",
       "  'trip_fraction': 0.0,\n",
       "  'trip_id': '3c3b4b72-5436-47a5-9792-371a10dabcfc'},\n",
       " {'event_type': 'route',\n",
       "  'location': {'lat': 40.77324652370018, 'lon': -73.871542693190435},\n",
       "  'passenger_count': 1,\n",
       "  'timestamp': Timestamp('2015-03-03 18:18:50-0500', tz='Etc/GMT+5'),\n",
       "  'trip_fraction': 0.016877637130801686,\n",
       "  'trip_id': '3c3b4b72-5436-47a5-9792-371a10dabcfc'},\n",
       " {'event_type': 'route',\n",
       "  'location': {'lat': 40.772342199011696, 'lon': -73.870267393216807},\n",
       "  'passenger_count': 1,\n",
       "  'timestamp': Timestamp('2015-03-03 18:19:50-0500', tz='Etc/GMT+5'),\n",
       "  'trip_fraction': 0.03375527426160337,\n",
       "  'trip_id': '3c3b4b72-5436-47a5-9792-371a10dabcfc'},\n",
       " {'event_type': 'route',\n",
       "  'location': {'lat': 40.771437874323205, 'lon': -73.868992093243179},\n",
       "  'passenger_count': 1,\n",
       "  'timestamp': Timestamp('2015-03-03 18:20:50-0500', tz='Etc/GMT+5'),\n",
       "  'trip_fraction': 0.05063291139240506,\n",
       "  'trip_id': '3c3b4b72-5436-47a5-9792-371a10dabcfc'},\n",
       " {'event_type': 'route',\n",
       "  'location': {'lat': 40.770533549634713, 'lon': -73.867716793269551},\n",
       "  'passenger_count': 1,\n",
       "  'timestamp': Timestamp('2015-03-03 18:21:50-0500', tz='Etc/GMT+5'),\n",
       "  'trip_fraction': 0.06751054852320675,\n",
       "  'trip_id': '3c3b4b72-5436-47a5-9792-371a10dabcfc'},\n",
       " {'event_type': 'route',\n",
       "  'location': {'lat': 40.769629224946229, 'lon': -73.866441493295923},\n",
       "  'passenger_count': 1,\n",
       "  'timestamp': Timestamp('2015-03-03 18:22:50-0500', tz='Etc/GMT+5'),\n",
       "  'trip_fraction': 0.08438818565400844,\n",
       "  'trip_id': '3c3b4b72-5436-47a5-9792-371a10dabcfc'},\n",
       " {'event_type': 'route',\n",
       "  'location': {'lat': 40.768724900257737, 'lon': -73.865166193322295},\n",
       "  'passenger_count': 1,\n",
       "  'timestamp': Timestamp('2015-03-03 18:23:50-0500', tz='Etc/GMT+5'),\n",
       "  'trip_fraction': 0.10126582278481013,\n",
       "  'trip_id': '3c3b4b72-5436-47a5-9792-371a10dabcfc'},\n",
       " {'event_type': 'route',\n",
       "  'location': {'lat': 40.767820575569246, 'lon': -73.863890893348668},\n",
       "  'passenger_count': 1,\n",
       "  'timestamp': Timestamp('2015-03-03 18:24:50-0500', tz='Etc/GMT+5'),\n",
       "  'trip_fraction': 0.11814345991561181,\n",
       "  'trip_id': '3c3b4b72-5436-47a5-9792-371a10dabcfc'},\n",
       " {'event_type': 'route',\n",
       "  'location': {'lat': 40.766916250880762, 'lon': -73.86261559337504},\n",
       "  'passenger_count': 1,\n",
       "  'timestamp': Timestamp('2015-03-03 18:25:50-0500', tz='Etc/GMT+5'),\n",
       "  'trip_fraction': 0.1350210970464135,\n",
       "  'trip_id': '3c3b4b72-5436-47a5-9792-371a10dabcfc'},\n",
       " {'event_type': 'route',\n",
       "  'location': {'lat': 40.76601192619227, 'lon': -73.861340293401398},\n",
       "  'passenger_count': 1,\n",
       "  'timestamp': Timestamp('2015-03-03 18:26:50-0500', tz='Etc/GMT+5'),\n",
       "  'trip_fraction': 0.1518987341772152,\n",
       "  'trip_id': '3c3b4b72-5436-47a5-9792-371a10dabcfc'},\n",
       " {'event_type': 'route',\n",
       "  'location': {'lat': 40.765107601503779, 'lon': -73.86006499342777},\n",
       "  'passenger_count': 1,\n",
       "  'timestamp': Timestamp('2015-03-03 18:27:50-0500', tz='Etc/GMT+5'),\n",
       "  'trip_fraction': 0.16877637130801687,\n",
       "  'trip_id': '3c3b4b72-5436-47a5-9792-371a10dabcfc'},\n",
       " {'event_type': 'route',\n",
       "  'location': {'lat': 40.764203276815294, 'lon': -73.858789693454142},\n",
       "  'passenger_count': 1,\n",
       "  'timestamp': Timestamp('2015-03-03 18:28:50-0500', tz='Etc/GMT+5'),\n",
       "  'trip_fraction': 0.18565400843881857,\n",
       "  'trip_id': '3c3b4b72-5436-47a5-9792-371a10dabcfc'},\n",
       " {'event_type': 'route',\n",
       "  'location': {'lat': 40.763298952126803, 'lon': -73.857514393480514},\n",
       "  'passenger_count': 1,\n",
       "  'timestamp': Timestamp('2015-03-03 18:29:50-0500', tz='Etc/GMT+5'),\n",
       "  'trip_fraction': 0.20253164556962025,\n",
       "  'trip_id': '3c3b4b72-5436-47a5-9792-371a10dabcfc'},\n",
       " {'event_type': 'route',\n",
       "  'location': {'lat': 40.762394627438312, 'lon': -73.856239093506886},\n",
       "  'passenger_count': 1,\n",
       "  'timestamp': Timestamp('2015-03-03 18:30:50-0500', tz='Etc/GMT+5'),\n",
       "  'trip_fraction': 0.21940928270042195,\n",
       "  'trip_id': '3c3b4b72-5436-47a5-9792-371a10dabcfc'},\n",
       " {'event_type': 'route',\n",
       "  'location': {'lat': 40.761490302749827, 'lon': -73.854963793533258},\n",
       "  'passenger_count': 1,\n",
       "  'timestamp': Timestamp('2015-03-03 18:31:50-0500', tz='Etc/GMT+5'),\n",
       "  'trip_fraction': 0.23628691983122363,\n",
       "  'trip_id': '3c3b4b72-5436-47a5-9792-371a10dabcfc'},\n",
       " {'event_type': 'route',\n",
       "  'location': {'lat': 40.760585978061336, 'lon': -73.853688493559631},\n",
       "  'passenger_count': 1,\n",
       "  'timestamp': Timestamp('2015-03-03 18:32:50-0500', tz='Etc/GMT+5'),\n",
       "  'trip_fraction': 0.25316455696202533,\n",
       "  'trip_id': '3c3b4b72-5436-47a5-9792-371a10dabcfc'},\n",
       " {'event_type': 'route',\n",
       "  'location': {'lat': 40.759681653372844, 'lon': -73.852413193586003},\n",
       "  'passenger_count': 1,\n",
       "  'timestamp': Timestamp('2015-03-03 18:33:50-0500', tz='Etc/GMT+5'),\n",
       "  'trip_fraction': 0.270042194092827,\n",
       "  'trip_id': '3c3b4b72-5436-47a5-9792-371a10dabcfc'},\n",
       " {'event_type': 'route',\n",
       "  'location': {'lat': 40.75877732868436, 'lon': -73.851137893612375},\n",
       "  'passenger_count': 1,\n",
       "  'timestamp': Timestamp('2015-03-03 18:34:50-0500', tz='Etc/GMT+5'),\n",
       "  'trip_fraction': 0.2869198312236287,\n",
       "  'trip_id': '3c3b4b72-5436-47a5-9792-371a10dabcfc'},\n",
       " {'event_type': 'route',\n",
       "  'location': {'lat': 40.757873003995869, 'lon': -73.849862593638747},\n",
       "  'passenger_count': 1,\n",
       "  'timestamp': Timestamp('2015-03-03 18:35:50-0500', tz='Etc/GMT+5'),\n",
       "  'trip_fraction': 0.3037974683544304,\n",
       "  'trip_id': '3c3b4b72-5436-47a5-9792-371a10dabcfc'},\n",
       " {'event_type': 'route',\n",
       "  'location': {'lat': 40.756968679307377, 'lon': -73.848587293665119},\n",
       "  'passenger_count': 1,\n",
       "  'timestamp': Timestamp('2015-03-03 18:36:50-0500', tz='Etc/GMT+5'),\n",
       "  'trip_fraction': 0.3206751054852321,\n",
       "  'trip_id': '3c3b4b72-5436-47a5-9792-371a10dabcfc'},\n",
       " {'event_type': 'route',\n",
       "  'location': {'lat': 40.756064354618893, 'lon': -73.847311993691491},\n",
       "  'passenger_count': 1,\n",
       "  'timestamp': Timestamp('2015-03-03 18:37:50-0500', tz='Etc/GMT+5'),\n",
       "  'trip_fraction': 0.33755274261603374,\n",
       "  'trip_id': '3c3b4b72-5436-47a5-9792-371a10dabcfc'},\n",
       " {'event_type': 'route',\n",
       "  'location': {'lat': 40.755160029930401, 'lon': -73.846036693717863},\n",
       "  'passenger_count': 1,\n",
       "  'timestamp': Timestamp('2015-03-03 18:38:50-0500', tz='Etc/GMT+5'),\n",
       "  'trip_fraction': 0.35443037974683544,\n",
       "  'trip_id': '3c3b4b72-5436-47a5-9792-371a10dabcfc'},\n",
       " {'event_type': 'route',\n",
       "  'location': {'lat': 40.75425570524191, 'lon': -73.844761393744236},\n",
       "  'passenger_count': 1,\n",
       "  'timestamp': Timestamp('2015-03-03 18:39:50-0500', tz='Etc/GMT+5'),\n",
       "  'trip_fraction': 0.37130801687763715,\n",
       "  'trip_id': '3c3b4b72-5436-47a5-9792-371a10dabcfc'},\n",
       " {'event_type': 'route',\n",
       "  'location': {'lat': 40.753351380553426, 'lon': -73.843486093770608},\n",
       "  'passenger_count': 1,\n",
       "  'timestamp': Timestamp('2015-03-03 18:40:50-0500', tz='Etc/GMT+5'),\n",
       "  'trip_fraction': 0.3881856540084388,\n",
       "  'trip_id': '3c3b4b72-5436-47a5-9792-371a10dabcfc'},\n",
       " {'event_type': 'route',\n",
       "  'location': {'lat': 40.752447055864934, 'lon': -73.84221079379698},\n",
       "  'passenger_count': 1,\n",
       "  'timestamp': Timestamp('2015-03-03 18:41:50-0500', tz='Etc/GMT+5'),\n",
       "  'trip_fraction': 0.4050632911392405,\n",
       "  'trip_id': '3c3b4b72-5436-47a5-9792-371a10dabcfc'},\n",
       " {'event_type': 'route',\n",
       "  'location': {'lat': 40.751542731176443, 'lon': -73.840935493823352},\n",
       "  'passenger_count': 1,\n",
       "  'timestamp': Timestamp('2015-03-03 18:42:50-0500', tz='Etc/GMT+5'),\n",
       "  'trip_fraction': 0.4219409282700422,\n",
       "  'trip_id': '3c3b4b72-5436-47a5-9792-371a10dabcfc'},\n",
       " {'event_type': 'route',\n",
       "  'location': {'lat': 40.750638406487958, 'lon': -73.83966019384971},\n",
       "  'passenger_count': 1,\n",
       "  'timestamp': Timestamp('2015-03-03 18:43:50-0500', tz='Etc/GMT+5'),\n",
       "  'trip_fraction': 0.4388185654008439,\n",
       "  'trip_id': '3c3b4b72-5436-47a5-9792-371a10dabcfc'},\n",
       " {'event_type': 'route',\n",
       "  'location': {'lat': 40.749734081799467, 'lon': -73.838384893876082},\n",
       "  'passenger_count': 1,\n",
       "  'timestamp': Timestamp('2015-03-03 18:44:50-0500', tz='Etc/GMT+5'),\n",
       "  'trip_fraction': 0.45569620253164556,\n",
       "  'trip_id': '3c3b4b72-5436-47a5-9792-371a10dabcfc'},\n",
       " {'event_type': 'route',\n",
       "  'location': {'lat': 40.748829757110975, 'lon': -73.837109593902454},\n",
       "  'passenger_count': 1,\n",
       "  'timestamp': Timestamp('2015-03-03 18:45:50-0500', tz='Etc/GMT+5'),\n",
       "  'trip_fraction': 0.47257383966244726,\n",
       "  'trip_id': '3c3b4b72-5436-47a5-9792-371a10dabcfc'},\n",
       " {'event_type': 'route',\n",
       "  'location': {'lat': 40.747925432422491, 'lon': -73.835834293928826},\n",
       "  'passenger_count': 1,\n",
       "  'timestamp': Timestamp('2015-03-03 18:46:50-0500', tz='Etc/GMT+5'),\n",
       "  'trip_fraction': 0.48945147679324896,\n",
       "  'trip_id': '3c3b4b72-5436-47a5-9792-371a10dabcfc'},\n",
       " {'event_type': 'route',\n",
       "  'location': {'lat': 40.747021107734, 'lon': -73.834558993955199},\n",
       "  'passenger_count': 1,\n",
       "  'timestamp': Timestamp('2015-03-03 18:47:50-0500', tz='Etc/GMT+5'),\n",
       "  'trip_fraction': 0.5063291139240507,\n",
       "  'trip_id': '3c3b4b72-5436-47a5-9792-371a10dabcfc'},\n",
       " {'event_type': 'route',\n",
       "  'location': {'lat': 40.746116783045508, 'lon': -73.833283693981571},\n",
       "  'passenger_count': 1,\n",
       "  'timestamp': Timestamp('2015-03-03 18:48:50-0500', tz='Etc/GMT+5'),\n",
       "  'trip_fraction': 0.5232067510548524,\n",
       "  'trip_id': '3c3b4b72-5436-47a5-9792-371a10dabcfc'},\n",
       " {'event_type': 'route',\n",
       "  'location': {'lat': 40.745212458357024, 'lon': -73.832008394007943},\n",
       "  'passenger_count': 1,\n",
       "  'timestamp': Timestamp('2015-03-03 18:49:50-0500', tz='Etc/GMT+5'),\n",
       "  'trip_fraction': 0.540084388185654,\n",
       "  'trip_id': '3c3b4b72-5436-47a5-9792-371a10dabcfc'},\n",
       " {'event_type': 'route',\n",
       "  'location': {'lat': 40.744308133668532, 'lon': -73.830733094034315},\n",
       "  'passenger_count': 1,\n",
       "  'timestamp': Timestamp('2015-03-03 18:50:50-0500', tz='Etc/GMT+5'),\n",
       "  'trip_fraction': 0.5569620253164557,\n",
       "  'trip_id': '3c3b4b72-5436-47a5-9792-371a10dabcfc'},\n",
       " {'event_type': 'route',\n",
       "  'location': {'lat': 40.743403808980041, 'lon': -73.829457794060687},\n",
       "  'passenger_count': 1,\n",
       "  'timestamp': Timestamp('2015-03-03 18:51:50-0500', tz='Etc/GMT+5'),\n",
       "  'trip_fraction': 0.5738396624472574,\n",
       "  'trip_id': '3c3b4b72-5436-47a5-9792-371a10dabcfc'},\n",
       " {'event_type': 'route',\n",
       "  'location': {'lat': 40.742499484291557, 'lon': -73.828182494087059},\n",
       "  'passenger_count': 1,\n",
       "  'timestamp': Timestamp('2015-03-03 18:52:50-0500', tz='Etc/GMT+5'),\n",
       "  'trip_fraction': 0.5907172995780591,\n",
       "  'trip_id': '3c3b4b72-5436-47a5-9792-371a10dabcfc'},\n",
       " {'event_type': 'route',\n",
       "  'location': {'lat': 40.741595159603065, 'lon': -73.826907194113431},\n",
       "  'passenger_count': 1,\n",
       "  'timestamp': Timestamp('2015-03-03 18:53:50-0500', tz='Etc/GMT+5'),\n",
       "  'trip_fraction': 0.6075949367088608,\n",
       "  'trip_id': '3c3b4b72-5436-47a5-9792-371a10dabcfc'},\n",
       " {'event_type': 'route',\n",
       "  'location': {'lat': 40.740690834914574, 'lon': -73.825631894139804},\n",
       "  'passenger_count': 1,\n",
       "  'timestamp': Timestamp('2015-03-03 18:54:50-0500', tz='Etc/GMT+5'),\n",
       "  'trip_fraction': 0.6244725738396625,\n",
       "  'trip_id': '3c3b4b72-5436-47a5-9792-371a10dabcfc'},\n",
       " {'event_type': 'route',\n",
       "  'location': {'lat': 40.739786510226089, 'lon': -73.824356594166176},\n",
       "  'passenger_count': 1,\n",
       "  'timestamp': Timestamp('2015-03-03 18:55:50-0500', tz='Etc/GMT+5'),\n",
       "  'trip_fraction': 0.6413502109704642,\n",
       "  'trip_id': '3c3b4b72-5436-47a5-9792-371a10dabcfc'},\n",
       " {'event_type': 'route',\n",
       "  'location': {'lat': 40.738882185537598, 'lon': -73.823081294192548},\n",
       "  'passenger_count': 1,\n",
       "  'timestamp': Timestamp('2015-03-03 18:56:50-0500', tz='Etc/GMT+5'),\n",
       "  'trip_fraction': 0.6582278481012658,\n",
       "  'trip_id': '3c3b4b72-5436-47a5-9792-371a10dabcfc'},\n",
       " {'event_type': 'route',\n",
       "  'location': {'lat': 40.737977860849114, 'lon': -73.82180599421892},\n",
       "  'passenger_count': 1,\n",
       "  'timestamp': Timestamp('2015-03-03 18:57:50-0500', tz='Etc/GMT+5'),\n",
       "  'trip_fraction': 0.6751054852320675,\n",
       "  'trip_id': '3c3b4b72-5436-47a5-9792-371a10dabcfc'},\n",
       " {'event_type': 'route',\n",
       "  'location': {'lat': 40.737073536160622, 'lon': -73.820530694245292},\n",
       "  'passenger_count': 1,\n",
       "  'timestamp': Timestamp('2015-03-03 18:58:50-0500', tz='Etc/GMT+5'),\n",
       "  'trip_fraction': 0.6919831223628692,\n",
       "  'trip_id': '3c3b4b72-5436-47a5-9792-371a10dabcfc'},\n",
       " {'event_type': 'route',\n",
       "  'location': {'lat': 40.736169211472131, 'lon': -73.819255394271664},\n",
       "  'passenger_count': 1,\n",
       "  'timestamp': Timestamp('2015-03-03 18:59:50-0500', tz='Etc/GMT+5'),\n",
       "  'trip_fraction': 0.7088607594936709,\n",
       "  'trip_id': '3c3b4b72-5436-47a5-9792-371a10dabcfc'},\n",
       " {'event_type': 'route',\n",
       "  'location': {'lat': 40.735264886783646, 'lon': -73.817980094298022},\n",
       "  'passenger_count': 1,\n",
       "  'timestamp': Timestamp('2015-03-03 19:00:50-0500', tz='Etc/GMT+5'),\n",
       "  'trip_fraction': 0.7257383966244726,\n",
       "  'trip_id': '3c3b4b72-5436-47a5-9792-371a10dabcfc'},\n",
       " {'event_type': 'route',\n",
       "  'location': {'lat': 40.734360562095155, 'lon': -73.816704794324394},\n",
       "  'passenger_count': 1,\n",
       "  'timestamp': Timestamp('2015-03-03 19:01:50-0500', tz='Etc/GMT+5'),\n",
       "  'trip_fraction': 0.7426160337552743,\n",
       "  'trip_id': '3c3b4b72-5436-47a5-9792-371a10dabcfc'},\n",
       " {'event_type': 'route',\n",
       "  'location': {'lat': 40.733456237406664, 'lon': -73.815429494350767},\n",
       "  'passenger_count': 1,\n",
       "  'timestamp': Timestamp('2015-03-03 19:02:50-0500', tz='Etc/GMT+5'),\n",
       "  'trip_fraction': 0.759493670886076,\n",
       "  'trip_id': '3c3b4b72-5436-47a5-9792-371a10dabcfc'},\n",
       " {'event_type': 'route',\n",
       "  'location': {'lat': 40.732551912718179, 'lon': -73.814154194377139},\n",
       "  'passenger_count': 1,\n",
       "  'timestamp': Timestamp('2015-03-03 19:03:50-0500', tz='Etc/GMT+5'),\n",
       "  'trip_fraction': 0.7763713080168776,\n",
       "  'trip_id': '3c3b4b72-5436-47a5-9792-371a10dabcfc'},\n",
       " {'event_type': 'route',\n",
       "  'location': {'lat': 40.731647588029688, 'lon': -73.812878894403511},\n",
       "  'passenger_count': 1,\n",
       "  'timestamp': Timestamp('2015-03-03 19:04:50-0500', tz='Etc/GMT+5'),\n",
       "  'trip_fraction': 0.7932489451476793,\n",
       "  'trip_id': '3c3b4b72-5436-47a5-9792-371a10dabcfc'},\n",
       " {'event_type': 'route',\n",
       "  'location': {'lat': 40.730743263341196, 'lon': -73.811603594429883},\n",
       "  'passenger_count': 1,\n",
       "  'timestamp': Timestamp('2015-03-03 19:05:50-0500', tz='Etc/GMT+5'),\n",
       "  'trip_fraction': 0.810126582278481,\n",
       "  'trip_id': '3c3b4b72-5436-47a5-9792-371a10dabcfc'},\n",
       " {'event_type': 'route',\n",
       "  'location': {'lat': 40.729838938652712, 'lon': -73.810328294456255},\n",
       "  'passenger_count': 1,\n",
       "  'timestamp': Timestamp('2015-03-03 19:06:50-0500', tz='Etc/GMT+5'),\n",
       "  'trip_fraction': 0.8270042194092827,\n",
       "  'trip_id': '3c3b4b72-5436-47a5-9792-371a10dabcfc'},\n",
       " {'event_type': 'route',\n",
       "  'location': {'lat': 40.728934613964221, 'lon': -73.809052994482627},\n",
       "  'passenger_count': 1,\n",
       "  'timestamp': Timestamp('2015-03-03 19:07:50-0500', tz='Etc/GMT+5'),\n",
       "  'trip_fraction': 0.8438818565400844,\n",
       "  'trip_id': '3c3b4b72-5436-47a5-9792-371a10dabcfc'},\n",
       " {'event_type': 'route',\n",
       "  'location': {'lat': 40.728030289275729, 'lon': -73.807777694508999},\n",
       "  'passenger_count': 1,\n",
       "  'timestamp': Timestamp('2015-03-03 19:08:50-0500', tz='Etc/GMT+5'),\n",
       "  'trip_fraction': 0.8607594936708861,\n",
       "  'trip_id': '3c3b4b72-5436-47a5-9792-371a10dabcfc'},\n",
       " {'event_type': 'route',\n",
       "  'location': {'lat': 40.727125964587245, 'lon': -73.806502394535372},\n",
       "  'passenger_count': 1,\n",
       "  'timestamp': Timestamp('2015-03-03 19:09:50-0500', tz='Etc/GMT+5'),\n",
       "  'trip_fraction': 0.8776371308016878,\n",
       "  'trip_id': '3c3b4b72-5436-47a5-9792-371a10dabcfc'},\n",
       " {'event_type': 'route',\n",
       "  'location': {'lat': 40.726221639898753, 'lon': -73.805227094561744},\n",
       "  'passenger_count': 1,\n",
       "  'timestamp': Timestamp('2015-03-03 19:10:50-0500', tz='Etc/GMT+5'),\n",
       "  'trip_fraction': 0.8945147679324894,\n",
       "  'trip_id': '3c3b4b72-5436-47a5-9792-371a10dabcfc'},\n",
       " {'event_type': 'route',\n",
       "  'location': {'lat': 40.725317315210262, 'lon': -73.803951794588116},\n",
       "  'passenger_count': 1,\n",
       "  'timestamp': Timestamp('2015-03-03 19:11:50-0500', tz='Etc/GMT+5'),\n",
       "  'trip_fraction': 0.9113924050632911,\n",
       "  'trip_id': '3c3b4b72-5436-47a5-9792-371a10dabcfc'},\n",
       " {'event_type': 'route',\n",
       "  'location': {'lat': 40.724412990521778, 'lon': -73.802676494614488},\n",
       "  'passenger_count': 1,\n",
       "  'timestamp': Timestamp('2015-03-03 19:12:50-0500', tz='Etc/GMT+5'),\n",
       "  'trip_fraction': 0.9282700421940928,\n",
       "  'trip_id': '3c3b4b72-5436-47a5-9792-371a10dabcfc'},\n",
       " {'event_type': 'route',\n",
       "  'location': {'lat': 40.723508665833286, 'lon': -73.80140119464086},\n",
       "  'passenger_count': 1,\n",
       "  'timestamp': Timestamp('2015-03-03 19:13:50-0500', tz='Etc/GMT+5'),\n",
       "  'trip_fraction': 0.9451476793248945,\n",
       "  'trip_id': '3c3b4b72-5436-47a5-9792-371a10dabcfc'},\n",
       " {'event_type': 'route',\n",
       "  'location': {'lat': 40.722604341144795, 'lon': -73.800125894667232},\n",
       "  'passenger_count': 1,\n",
       "  'timestamp': Timestamp('2015-03-03 19:14:50-0500', tz='Etc/GMT+5'),\n",
       "  'trip_fraction': 0.9620253164556962,\n",
       "  'trip_id': '3c3b4b72-5436-47a5-9792-371a10dabcfc'},\n",
       " {'event_type': 'route',\n",
       "  'location': {'lat': 40.72170001645631, 'lon': -73.798850594693604},\n",
       "  'passenger_count': 1,\n",
       "  'timestamp': Timestamp('2015-03-03 19:15:50-0500', tz='Etc/GMT+5'),\n",
       "  'trip_fraction': 0.9789029535864979,\n",
       "  'trip_id': '3c3b4b72-5436-47a5-9792-371a10dabcfc'},\n",
       " {'event_type': 'route',\n",
       "  'location': {'lat': 40.720795691767819, 'lon': -73.797575294719977},\n",
       "  'passenger_count': 1,\n",
       "  'timestamp': Timestamp('2015-03-03 19:16:50-0500', tz='Etc/GMT+5'),\n",
       "  'trip_fraction': 0.9957805907172996,\n",
       "  'trip_id': '3c3b4b72-5436-47a5-9792-371a10dabcfc'},\n",
       " {'event_type': 'dropoff',\n",
       "  'location': {'lat': 40.720569610595696, 'lon': -73.797256469726562},\n",
       "  'passenger_count': 1,\n",
       "  'timestamp': Timestamp('2015-03-03 19:17:05-0500', tz='Etc/GMT+5'),\n",
       "  'total_amount': 44.159999999999997,\n",
       "  'trip_distance': 7.2400000000000002,\n",
       "  'trip_duration_minutes': 59.25,\n",
       "  'trip_fraction': 1.0,\n",
       "  'trip_id': '3c3b4b72-5436-47a5-9792-371a10dabcfc'}]"
      ]
     },
     "execution_count": 86,
     "metadata": {},
     "output_type": "execute_result"
    }
   ],
   "source": [
    "create_events(df.iloc[0])"
   ]
  },
  {
   "cell_type": "code",
   "execution_count": 87,
   "metadata": {
    "collapsed": true
   },
   "outputs": [],
   "source": [
    "def flatten_list(li):\n",
    "    result = []\n",
    "    for item in li:\n",
    "        result.extend(item)\n",
    "    return result"
   ]
  },
  {
   "cell_type": "code",
   "execution_count": 88,
   "metadata": {},
   "outputs": [
    {
     "name": "stdout",
     "output_type": "stream",
     "text": [
      "CPU times: user 1h 57min 10s, sys: 1min 18s, total: 1h 58min 29s\n",
      "Wall time: 1h 58min 4s\n"
     ]
    }
   ],
   "source": [
    "%%time\n",
    "all_events = flatten_list([create_events(r) for _, r in df.iterrows()])"
   ]
  },
  {
   "cell_type": "code",
   "execution_count": 92,
   "metadata": {},
   "outputs": [
    {
     "data": {
      "text/plain": [
       "18916770"
      ]
     },
     "execution_count": 92,
     "metadata": {},
     "output_type": "execute_result"
    }
   ],
   "source": [
    "len(all_events)"
   ]
  },
  {
   "cell_type": "code",
   "execution_count": 93,
   "metadata": {},
   "outputs": [
    {
     "name": "stdout",
     "output_type": "stream",
     "text": [
      "CPU times: user 2min 30s, sys: 17.9 s, total: 2min 48s\n",
      "Wall time: 2min 48s\n"
     ]
    }
   ],
   "source": [
    "%%time\n",
    "all_events_df = pd.DataFrame(all_events).sort_values(['timestamp'])\n",
    "all_events_df.head(10)"
   ]
  },
  {
   "cell_type": "code",
   "execution_count": 94,
   "metadata": {},
   "outputs": [
    {
     "ename": "MemoryError",
     "evalue": "",
     "output_type": "error",
     "traceback": [
      "\u001b[0;31m---------------------------------------------------------------------------\u001b[0m",
      "\u001b[0;31mMemoryError\u001b[0m                               Traceback (most recent call last)",
      "\u001b[0;32m<ipython-input-94-96771a79483c>\u001b[0m in \u001b[0;36m<module>\u001b[0;34m()\u001b[0m\n\u001b[0;32m----> 1\u001b[0;31m \u001b[0mall_events_df\u001b[0m\u001b[0;34m.\u001b[0m\u001b[0mto_json\u001b[0m\u001b[0;34m(\u001b[0m\u001b[0;34m'data.ndjson'\u001b[0m\u001b[0;34m,\u001b[0m \u001b[0morient\u001b[0m\u001b[0;34m=\u001b[0m\u001b[0;34m'records'\u001b[0m\u001b[0;34m,\u001b[0m \u001b[0mlines\u001b[0m\u001b[0;34m=\u001b[0m\u001b[0;32mTrue\u001b[0m\u001b[0;34m)\u001b[0m\u001b[0;34m\u001b[0m\u001b[0m\n\u001b[0m",
      "\u001b[0;32m/opt/conda/lib/python3.6/site-packages/pandas/core/generic.py\u001b[0m in \u001b[0;36mto_json\u001b[0;34m(self, path_or_buf, orient, date_format, double_precision, force_ascii, date_unit, default_handler, lines)\u001b[0m\n\u001b[1;32m   1231\u001b[0m                             \u001b[0mforce_ascii\u001b[0m\u001b[0;34m=\u001b[0m\u001b[0mforce_ascii\u001b[0m\u001b[0;34m,\u001b[0m \u001b[0mdate_unit\u001b[0m\u001b[0;34m=\u001b[0m\u001b[0mdate_unit\u001b[0m\u001b[0;34m,\u001b[0m\u001b[0;34m\u001b[0m\u001b[0m\n\u001b[1;32m   1232\u001b[0m                             \u001b[0mdefault_handler\u001b[0m\u001b[0;34m=\u001b[0m\u001b[0mdefault_handler\u001b[0m\u001b[0;34m,\u001b[0m\u001b[0;34m\u001b[0m\u001b[0m\n\u001b[0;32m-> 1233\u001b[0;31m                             lines=lines)\n\u001b[0m\u001b[1;32m   1234\u001b[0m \u001b[0;34m\u001b[0m\u001b[0m\n\u001b[1;32m   1235\u001b[0m     \u001b[0;32mdef\u001b[0m \u001b[0mto_hdf\u001b[0m\u001b[0;34m(\u001b[0m\u001b[0mself\u001b[0m\u001b[0;34m,\u001b[0m \u001b[0mpath_or_buf\u001b[0m\u001b[0;34m,\u001b[0m \u001b[0mkey\u001b[0m\u001b[0;34m,\u001b[0m \u001b[0;34m**\u001b[0m\u001b[0mkwargs\u001b[0m\u001b[0;34m)\u001b[0m\u001b[0;34m:\u001b[0m\u001b[0;34m\u001b[0m\u001b[0m\n",
      "\u001b[0;32m/opt/conda/lib/python3.6/site-packages/pandas/io/json/json.py\u001b[0m in \u001b[0;36mto_json\u001b[0;34m(path_or_buf, obj, orient, date_format, double_precision, force_ascii, date_unit, default_handler, lines)\u001b[0m\n\u001b[1;32m     44\u001b[0m         \u001b[0mobj\u001b[0m\u001b[0;34m,\u001b[0m \u001b[0morient\u001b[0m\u001b[0;34m=\u001b[0m\u001b[0morient\u001b[0m\u001b[0;34m,\u001b[0m \u001b[0mdate_format\u001b[0m\u001b[0;34m=\u001b[0m\u001b[0mdate_format\u001b[0m\u001b[0;34m,\u001b[0m\u001b[0;34m\u001b[0m\u001b[0m\n\u001b[1;32m     45\u001b[0m         \u001b[0mdouble_precision\u001b[0m\u001b[0;34m=\u001b[0m\u001b[0mdouble_precision\u001b[0m\u001b[0;34m,\u001b[0m \u001b[0mensure_ascii\u001b[0m\u001b[0;34m=\u001b[0m\u001b[0mforce_ascii\u001b[0m\u001b[0;34m,\u001b[0m\u001b[0;34m\u001b[0m\u001b[0m\n\u001b[0;32m---> 46\u001b[0;31m         date_unit=date_unit, default_handler=default_handler).write()\n\u001b[0m\u001b[1;32m     47\u001b[0m \u001b[0;34m\u001b[0m\u001b[0m\n\u001b[1;32m     48\u001b[0m     \u001b[0;32mif\u001b[0m \u001b[0mlines\u001b[0m\u001b[0;34m:\u001b[0m\u001b[0;34m\u001b[0m\u001b[0m\n",
      "\u001b[0;32m/opt/conda/lib/python3.6/site-packages/pandas/io/json/json.py\u001b[0m in \u001b[0;36mwrite\u001b[0;34m(self)\u001b[0m\n\u001b[1;32m     88\u001b[0m             \u001b[0mdate_unit\u001b[0m\u001b[0;34m=\u001b[0m\u001b[0mself\u001b[0m\u001b[0;34m.\u001b[0m\u001b[0mdate_unit\u001b[0m\u001b[0;34m,\u001b[0m\u001b[0;34m\u001b[0m\u001b[0m\n\u001b[1;32m     89\u001b[0m             \u001b[0miso_dates\u001b[0m\u001b[0;34m=\u001b[0m\u001b[0mself\u001b[0m\u001b[0;34m.\u001b[0m\u001b[0mdate_format\u001b[0m \u001b[0;34m==\u001b[0m \u001b[0;34m'iso'\u001b[0m\u001b[0;34m,\u001b[0m\u001b[0;34m\u001b[0m\u001b[0m\n\u001b[0;32m---> 90\u001b[0;31m             \u001b[0mdefault_handler\u001b[0m\u001b[0;34m=\u001b[0m\u001b[0mself\u001b[0m\u001b[0;34m.\u001b[0m\u001b[0mdefault_handler\u001b[0m\u001b[0;34m\u001b[0m\u001b[0m\n\u001b[0m\u001b[1;32m     91\u001b[0m         )\n\u001b[1;32m     92\u001b[0m \u001b[0;34m\u001b[0m\u001b[0m\n",
      "\u001b[0;31mMemoryError\u001b[0m: "
     ]
    }
   ],
   "source": [
    "all_events_df.to_json('data.ndjson', orient='records', lines=True)"
   ]
  },
  {
   "cell_type": "markdown",
   "metadata": {},
   "source": [
    "# Playground"
   ]
  },
  {
   "cell_type": "code",
   "execution_count": 41,
   "metadata": {},
   "outputs": [
    {
     "data": {
      "text/plain": [
       "DatetimeIndex(['2015-05-05', '2015-05-05', '2015-05-05', '2015-05-05',\n",
       "               '2015-05-05', '2015-05-05', '2015-05-05', '2015-05-05',\n",
       "               '2015-05-05', '2015-05-05', '2015-05-05', '2015-05-05',\n",
       "               '2015-05-05', '2015-05-05', '2015-05-05', '2015-05-05',\n",
       "               '2015-05-05', '2015-05-05', '2015-05-05', '2015-05-06'],\n",
       "              dtype='datetime64[ns]', name='timestamp', freq=None)"
      ]
     },
     "execution_count": 41,
     "metadata": {},
     "output_type": "execute_result"
    }
   ],
   "source": [
    "all_events_df.index.to_period(freq='d').start_time"
   ]
  },
  {
   "cell_type": "code",
   "execution_count": 50,
   "metadata": {},
   "outputs": [
    {
     "data": {
      "text/plain": [
       "Period('2015-05-06', 'D')"
      ]
     },
     "execution_count": 50,
     "metadata": {},
     "output_type": "execute_result"
    }
   ],
   "source": [
    "begin_playback_period = pd.Period('2015-05-06', 'D')\n",
    "begin_playback_period"
   ]
  },
  {
   "cell_type": "code",
   "execution_count": 54,
   "metadata": {},
   "outputs": [
    {
     "data": {
      "text/plain": [
       "Timestamp('2015-05-06 00:00:00-0400', tz='US/Eastern')"
      ]
     },
     "execution_count": 54,
     "metadata": {},
     "output_type": "execute_result"
    }
   ],
   "source": [
    "begin_playback_original_timestamp = begin_playback_period.start_time.tz_localize('US/Eastern')\n",
    "begin_playback_original_timestamp"
   ]
  },
  {
   "cell_type": "code",
   "execution_count": 65,
   "metadata": {},
   "outputs": [
    {
     "data": {
      "text/plain": [
       "Timestamp('2018-02-27 19:40:38.762375-0500', tz='US/Eastern')"
      ]
     },
     "execution_count": 65,
     "metadata": {},
     "output_type": "execute_result"
    }
   ],
   "source": [
    "realtime_timestamp = pd.Timestamp.now('US/Eastern')\n",
    "realtime_timestamp"
   ]
  },
  {
   "cell_type": "code",
   "execution_count": 68,
   "metadata": {},
   "outputs": [
    {
     "data": {
      "text/plain": [
       "Period('2018-02-27', 'D')"
      ]
     },
     "execution_count": 68,
     "metadata": {},
     "output_type": "execute_result"
    }
   ],
   "source": [
    "realtime_period = pd.Period(realtime_timestamp, freq='D')\n",
    "realtime_period"
   ]
  },
  {
   "cell_type": "code",
   "execution_count": 69,
   "metadata": {},
   "outputs": [
    {
     "data": {
      "text/plain": [
       "1028"
      ]
     },
     "execution_count": 69,
     "metadata": {},
     "output_type": "execute_result"
    }
   ],
   "source": [
    "delta_periods = realtime_period - begin_playback_period\n",
    "delta_periods"
   ]
  },
  {
   "cell_type": "code",
   "execution_count": 70,
   "metadata": {},
   "outputs": [
    {
     "data": {
      "text/plain": [
       "Timestamp('2015-05-06 20:40:38.762375-0400', tz='US/Eastern')"
      ]
     },
     "execution_count": 70,
     "metadata": {},
     "output_type": "execute_result"
    }
   ],
   "source": [
    "realtime_timestamp - (realtime_period - begin_playback_period) * realtime_period.freq.delta"
   ]
  },
  {
   "cell_type": "code",
   "execution_count": 86,
   "metadata": {},
   "outputs": [
    {
     "data": {
      "text/plain": [
       "'2015-05-05 20:37:40-07:00'"
      ]
     },
     "execution_count": 86,
     "metadata": {},
     "output_type": "execute_result"
    }
   ],
   "source": [
    "t = pd.to_datetime(1430883460000, unit='ms', utc=True).tz_convert('US/Pacific')\n",
    "str(t)"
   ]
  },
  {
   "cell_type": "code",
   "execution_count": 80,
   "metadata": {},
   "outputs": [
    {
     "data": {
      "text/plain": [
       "Timestamp('2018-02-28 01:16:44.285336+0000', tz='UTC')"
      ]
     },
     "execution_count": 80,
     "metadata": {},
     "output_type": "execute_result"
    }
   ],
   "source": [
    "pd.Timestamp.now('UTC')"
   ]
  },
  {
   "cell_type": "code",
   "execution_count": 83,
   "metadata": {},
   "outputs": [
    {
     "data": {
      "text/plain": [
       "88819200000.0"
      ]
     },
     "execution_count": 83,
     "metadata": {},
     "output_type": "execute_result"
    }
   ],
   "source": [
    "(realtime_period - begin_playback_period) * realtime_period.freq.delta / pd.Timedelta(1, 'ms')"
   ]
  },
  {
   "cell_type": "code",
   "execution_count": 28,
   "metadata": {},
   "outputs": [
    {
     "data": {
      "text/plain": [
       "Timestamp('2018-02-28 05:40:28.684808+0000', tz='UTC')"
      ]
     },
     "execution_count": 28,
     "metadata": {},
     "output_type": "execute_result"
    }
   ],
   "source": [
    "t = pd.Timestamp.now('UTC')\n",
    "t"
   ]
  },
  {
   "cell_type": "code",
   "execution_count": 30,
   "metadata": {},
   "outputs": [
    {
     "data": {
      "text/plain": [
       "1519796428684.8079"
      ]
     },
     "execution_count": 30,
     "metadata": {},
     "output_type": "execute_result"
    }
   ],
   "source": [
    "t.value / 1e6"
   ]
  },
  {
   "cell_type": "code",
   "execution_count": 3,
   "metadata": {},
   "outputs": [
    {
     "data": {
      "text/plain": [
       "1425628951000.0"
      ]
     },
     "execution_count": 3,
     "metadata": {},
     "output_type": "execute_result"
    }
   ],
   "source": [
    "pd.Timestamp('2015-03-06 08:02:31').value / 1e6"
   ]
  },
  {
   "cell_type": "code",
   "execution_count": null,
   "metadata": {
    "collapsed": true
   },
   "outputs": [],
   "source": []
  }
 ],
 "metadata": {
  "kernelspec": {
   "display_name": "Python 3",
   "language": "python",
   "name": "python3"
  },
  "language_info": {
   "codemirror_mode": {
    "name": "ipython",
    "version": 3
   },
   "file_extension": ".py",
   "mimetype": "text/x-python",
   "name": "python",
   "nbconvert_exporter": "python",
   "pygments_lexer": "ipython3",
   "version": "3.6.1"
  }
 },
 "nbformat": 4,
 "nbformat_minor": 2
}
