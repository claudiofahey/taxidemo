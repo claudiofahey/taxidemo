{
 "cells": [
  {
   "cell_type": "code",
   "execution_count": 202,
   "metadata": {},
   "outputs": [],
   "source": [
    "import pandas as pd\n",
    "import numpy as np\n",
    "import glob\n",
    "import os\n",
    "import bz2\n",
    "import codecs\n",
    "import json\n",
    "import matplotlib.pylab as plt\n",
    "import uuid\n",
    "from pyspark import SparkContext, SparkConf\n",
    "from pyspark.sql import SQLContext, Row\n",
    "from pyspark.sql.types import StructType, StructField, IntegerType, TimestampType, DoubleType, StringType\n",
    "from pyspark.sql.functions import to_utc_timestamp, unix_timestamp, from_unixtime\n",
    "%matplotlib inline"
   ]
  },
  {
   "cell_type": "code",
   "execution_count": 182,
   "metadata": {
    "collapsed": true
   },
   "outputs": [],
   "source": [
    "conf = SparkConf()"
   ]
  },
  {
   "cell_type": "code",
   "execution_count": 183,
   "metadata": {},
   "outputs": [
    {
     "data": {
      "text/plain": [
       "<pyspark.conf.SparkConf at 0x7f39a4e1e080>"
      ]
     },
     "execution_count": 183,
     "metadata": {},
     "output_type": "execute_result"
    }
   ],
   "source": [
    "conf.setMaster('local[8]')"
   ]
  },
  {
   "cell_type": "code",
   "execution_count": 184,
   "metadata": {},
   "outputs": [],
   "source": [
    "sc = SparkContext.getOrCreate(conf=conf)\n",
    "sql_sc = SQLContext(sc)"
   ]
  },
  {
   "cell_type": "code",
   "execution_count": 185,
   "metadata": {},
   "outputs": [],
   "source": [
    "schema = StructType([\n",
    "        StructField('VendorID',IntegerType(),True),\n",
    "        StructField('tpep_pickup_datetime',TimestampType(),True),\n",
    "        StructField('tpep_dropoff_datetime',TimestampType(),True),\n",
    "        StructField('passenger_count',IntegerType(),True),\n",
    "        StructField('trip_distance',DoubleType(),True),\n",
    "        StructField('pickup_longitude',DoubleType(),True),\n",
    "        StructField('pickup_latitude',DoubleType(),True),\n",
    "        StructField('RateCodeID',IntegerType(),True),\n",
    "        StructField('store_and_fwd_flag',StringType(),True),\n",
    "        StructField('dropoff_longitude',DoubleType(),True),\n",
    "        StructField('dropoff_latitude',DoubleType(),True),\n",
    "        StructField('payment_type',IntegerType(),True),\n",
    "        StructField('fare_amount',DoubleType(),True),\n",
    "        StructField('extra',DoubleType(),True),\n",
    "        StructField('mta_tax',DoubleType(),True),\n",
    "        StructField('tip_amount',DoubleType(),True),\n",
    "        StructField('tolls_amount',DoubleType(),True),\n",
    "        StructField('improvement_surcharge',DoubleType(),True),\n",
    "        StructField('total_amount',DoubleType(),True),\n",
    "    ])"
   ]
  },
  {
   "cell_type": "code",
   "execution_count": 186,
   "metadata": {},
   "outputs": [],
   "source": [
    "infilename = 'yellow_tripdata_2015-03.csv'\n",
    "#infilename = 'sample.csv'\n",
    "raw_sdf = (sql_sc\n",
    "    .read\n",
    "    .csv(infilename, header=True, schema=schema, timestampFormat='yyyy-MM-dd HH:mm:ss'))"
   ]
  },
  {
   "cell_type": "code",
   "execution_count": 187,
   "metadata": {},
   "outputs": [],
   "source": [
    "clean_sdf = raw_sdf.withColumn('tpep_pickup_timestamp_ms',  unix_timestamp(raw_sdf['tpep_pickup_datetime' ])*1000 + 5*60*60*1000)\n",
    "clean_sdf = clean_sdf.withColumn('tpep_dropoff_timestamp_ms', unix_timestamp(raw_sdf['tpep_dropoff_datetime'])*1000 + 5*60*60*1000)"
   ]
  },
  {
   "cell_type": "code",
   "execution_count": 188,
   "metadata": {},
   "outputs": [
    {
     "name": "stdout",
     "output_type": "stream",
     "text": [
      "<class 'pandas.core.frame.DataFrame'>\n",
      "RangeIndex: 1 entries, 0 to 0\n",
      "Data columns (total 21 columns):\n",
      "VendorID                     1 non-null int64\n",
      "tpep_pickup_datetime         1 non-null datetime64[ns]\n",
      "tpep_dropoff_datetime        1 non-null datetime64[ns]\n",
      "passenger_count              1 non-null int64\n",
      "trip_distance                1 non-null float64\n",
      "pickup_longitude             1 non-null float64\n",
      "pickup_latitude              1 non-null float64\n",
      "RateCodeID                   1 non-null int64\n",
      "store_and_fwd_flag           1 non-null object\n",
      "dropoff_longitude            1 non-null float64\n",
      "dropoff_latitude             1 non-null float64\n",
      "payment_type                 1 non-null int64\n",
      "fare_amount                  1 non-null float64\n",
      "extra                        1 non-null float64\n",
      "mta_tax                      1 non-null float64\n",
      "tip_amount                   1 non-null float64\n",
      "tolls_amount                 1 non-null float64\n",
      "improvement_surcharge        1 non-null float64\n",
      "total_amount                 1 non-null float64\n",
      "tpep_pickup_timestamp_ms     1 non-null int64\n",
      "tpep_dropoff_timestamp_ms    1 non-null int64\n",
      "dtypes: datetime64[ns](2), float64(12), int64(6), object(1)\n",
      "memory usage: 248.0+ bytes\n"
     ]
    }
   ],
   "source": [
    "clean_sdf.limit(1).toPandas().info()"
   ]
  },
  {
   "cell_type": "code",
   "execution_count": 189,
   "metadata": {},
   "outputs": [
    {
     "data": {
      "text/html": [
       "<div>\n",
       "<style>\n",
       "    .dataframe thead tr:only-child th {\n",
       "        text-align: right;\n",
       "    }\n",
       "\n",
       "    .dataframe thead th {\n",
       "        text-align: left;\n",
       "    }\n",
       "\n",
       "    .dataframe tbody tr th {\n",
       "        vertical-align: top;\n",
       "    }\n",
       "</style>\n",
       "<table border=\"1\" class=\"dataframe\">\n",
       "  <thead>\n",
       "    <tr style=\"text-align: right;\">\n",
       "      <th></th>\n",
       "      <th>VendorID</th>\n",
       "      <th>tpep_pickup_datetime</th>\n",
       "      <th>tpep_dropoff_datetime</th>\n",
       "      <th>passenger_count</th>\n",
       "      <th>trip_distance</th>\n",
       "      <th>pickup_longitude</th>\n",
       "      <th>pickup_latitude</th>\n",
       "      <th>RateCodeID</th>\n",
       "      <th>store_and_fwd_flag</th>\n",
       "      <th>dropoff_longitude</th>\n",
       "      <th>...</th>\n",
       "      <th>payment_type</th>\n",
       "      <th>fare_amount</th>\n",
       "      <th>extra</th>\n",
       "      <th>mta_tax</th>\n",
       "      <th>tip_amount</th>\n",
       "      <th>tolls_amount</th>\n",
       "      <th>improvement_surcharge</th>\n",
       "      <th>total_amount</th>\n",
       "      <th>tpep_pickup_timestamp_ms</th>\n",
       "      <th>tpep_dropoff_timestamp_ms</th>\n",
       "    </tr>\n",
       "  </thead>\n",
       "  <tbody>\n",
       "    <tr>\n",
       "      <th>0</th>\n",
       "      <td>1</td>\n",
       "      <td>2015-03-06 08:02:31</td>\n",
       "      <td>2015-03-06 08:09:55</td>\n",
       "      <td>1</td>\n",
       "      <td>1.2</td>\n",
       "      <td>-73.990211</td>\n",
       "      <td>40.750969</td>\n",
       "      <td>1</td>\n",
       "      <td>N</td>\n",
       "      <td>-73.987892</td>\n",
       "      <td>...</td>\n",
       "      <td>2</td>\n",
       "      <td>7.0</td>\n",
       "      <td>0.0</td>\n",
       "      <td>0.5</td>\n",
       "      <td>0.00</td>\n",
       "      <td>0.0</td>\n",
       "      <td>0.3</td>\n",
       "      <td>7.80</td>\n",
       "      <td>1425646951000</td>\n",
       "      <td>1425647395000</td>\n",
       "    </tr>\n",
       "    <tr>\n",
       "      <th>1</th>\n",
       "      <td>1</td>\n",
       "      <td>2015-03-06 08:02:31</td>\n",
       "      <td>2015-03-06 08:15:23</td>\n",
       "      <td>1</td>\n",
       "      <td>3.2</td>\n",
       "      <td>-73.935188</td>\n",
       "      <td>40.800720</td>\n",
       "      <td>1</td>\n",
       "      <td>N</td>\n",
       "      <td>-73.952553</td>\n",
       "      <td>...</td>\n",
       "      <td>2</td>\n",
       "      <td>11.5</td>\n",
       "      <td>0.0</td>\n",
       "      <td>0.5</td>\n",
       "      <td>0.00</td>\n",
       "      <td>0.0</td>\n",
       "      <td>0.3</td>\n",
       "      <td>12.30</td>\n",
       "      <td>1425646951000</td>\n",
       "      <td>1425647723000</td>\n",
       "    </tr>\n",
       "    <tr>\n",
       "      <th>2</th>\n",
       "      <td>1</td>\n",
       "      <td>2015-03-06 08:02:31</td>\n",
       "      <td>2015-03-06 08:12:27</td>\n",
       "      <td>1</td>\n",
       "      <td>1.1</td>\n",
       "      <td>-73.963753</td>\n",
       "      <td>40.767937</td>\n",
       "      <td>1</td>\n",
       "      <td>N</td>\n",
       "      <td>-73.956947</td>\n",
       "      <td>...</td>\n",
       "      <td>2</td>\n",
       "      <td>8.0</td>\n",
       "      <td>0.0</td>\n",
       "      <td>0.5</td>\n",
       "      <td>0.00</td>\n",
       "      <td>0.0</td>\n",
       "      <td>0.3</td>\n",
       "      <td>8.80</td>\n",
       "      <td>1425646951000</td>\n",
       "      <td>1425647547000</td>\n",
       "    </tr>\n",
       "    <tr>\n",
       "      <th>3</th>\n",
       "      <td>1</td>\n",
       "      <td>2015-03-06 08:02:31</td>\n",
       "      <td>2015-03-06 08:09:09</td>\n",
       "      <td>1</td>\n",
       "      <td>0.8</td>\n",
       "      <td>-73.997177</td>\n",
       "      <td>40.742168</td>\n",
       "      <td>1</td>\n",
       "      <td>N</td>\n",
       "      <td>-74.008064</td>\n",
       "      <td>...</td>\n",
       "      <td>1</td>\n",
       "      <td>6.0</td>\n",
       "      <td>0.0</td>\n",
       "      <td>0.5</td>\n",
       "      <td>1.00</td>\n",
       "      <td>0.0</td>\n",
       "      <td>0.3</td>\n",
       "      <td>7.80</td>\n",
       "      <td>1425646951000</td>\n",
       "      <td>1425647349000</td>\n",
       "    </tr>\n",
       "    <tr>\n",
       "      <th>4</th>\n",
       "      <td>1</td>\n",
       "      <td>2015-03-06 08:02:32</td>\n",
       "      <td>2015-03-06 08:19:37</td>\n",
       "      <td>1</td>\n",
       "      <td>2.7</td>\n",
       "      <td>-74.006844</td>\n",
       "      <td>40.730267</td>\n",
       "      <td>1</td>\n",
       "      <td>N</td>\n",
       "      <td>-73.976860</td>\n",
       "      <td>...</td>\n",
       "      <td>1</td>\n",
       "      <td>13.0</td>\n",
       "      <td>0.0</td>\n",
       "      <td>0.5</td>\n",
       "      <td>2.75</td>\n",
       "      <td>0.0</td>\n",
       "      <td>0.3</td>\n",
       "      <td>16.55</td>\n",
       "      <td>1425646952000</td>\n",
       "      <td>1425647977000</td>\n",
       "    </tr>\n",
       "  </tbody>\n",
       "</table>\n",
       "<p>5 rows × 21 columns</p>\n",
       "</div>"
      ],
      "text/plain": [
       "   VendorID tpep_pickup_datetime tpep_dropoff_datetime  passenger_count  \\\n",
       "0         1  2015-03-06 08:02:31   2015-03-06 08:09:55                1   \n",
       "1         1  2015-03-06 08:02:31   2015-03-06 08:15:23                1   \n",
       "2         1  2015-03-06 08:02:31   2015-03-06 08:12:27                1   \n",
       "3         1  2015-03-06 08:02:31   2015-03-06 08:09:09                1   \n",
       "4         1  2015-03-06 08:02:32   2015-03-06 08:19:37                1   \n",
       "\n",
       "   trip_distance  pickup_longitude  pickup_latitude  RateCodeID  \\\n",
       "0            1.2        -73.990211        40.750969           1   \n",
       "1            3.2        -73.935188        40.800720           1   \n",
       "2            1.1        -73.963753        40.767937           1   \n",
       "3            0.8        -73.997177        40.742168           1   \n",
       "4            2.7        -74.006844        40.730267           1   \n",
       "\n",
       "  store_and_fwd_flag  dropoff_longitude            ...              \\\n",
       "0                  N         -73.987892            ...               \n",
       "1                  N         -73.952553            ...               \n",
       "2                  N         -73.956947            ...               \n",
       "3                  N         -74.008064            ...               \n",
       "4                  N         -73.976860            ...               \n",
       "\n",
       "   payment_type  fare_amount  extra  mta_tax  tip_amount  tolls_amount  \\\n",
       "0             2          7.0    0.0      0.5        0.00           0.0   \n",
       "1             2         11.5    0.0      0.5        0.00           0.0   \n",
       "2             2          8.0    0.0      0.5        0.00           0.0   \n",
       "3             1          6.0    0.0      0.5        1.00           0.0   \n",
       "4             1         13.0    0.0      0.5        2.75           0.0   \n",
       "\n",
       "   improvement_surcharge  total_amount  tpep_pickup_timestamp_ms  \\\n",
       "0                    0.3          7.80             1425646951000   \n",
       "1                    0.3         12.30             1425646951000   \n",
       "2                    0.3          8.80             1425646951000   \n",
       "3                    0.3          7.80             1425646951000   \n",
       "4                    0.3         16.55             1425646952000   \n",
       "\n",
       "   tpep_dropoff_timestamp_ms  \n",
       "0              1425647395000  \n",
       "1              1425647723000  \n",
       "2              1425647547000  \n",
       "3              1425647349000  \n",
       "4              1425647977000  \n",
       "\n",
       "[5 rows x 21 columns]"
      ]
     },
     "execution_count": 189,
     "metadata": {},
     "output_type": "execute_result"
    }
   ],
   "source": [
    "clean_sdf.limit(5).toPandas()"
   ]
  },
  {
   "cell_type": "code",
   "execution_count": 191,
   "metadata": {},
   "outputs": [],
   "source": [
    "end_timestamp = pd.Timestamp('2015-03-03 00:00:00').tz_localize('Etc/GMT+5')\n",
    "filtered_sdf = clean_sdf.filter('tpep_dropoff_timestamp_ms <= %d' % int(end_timestamp.value / 1e6) )"
   ]
  },
  {
   "cell_type": "code",
   "execution_count": 192,
   "metadata": {},
   "outputs": [
    {
     "data": {
      "text/plain": [
       "771187"
      ]
     },
     "execution_count": 192,
     "metadata": {},
     "output_type": "execute_result"
    }
   ],
   "source": [
    "filtered_sdf.count()"
   ]
  },
  {
   "cell_type": "code",
   "execution_count": 193,
   "metadata": {},
   "outputs": [
    {
     "data": {
      "text/html": [
       "<div>\n",
       "<style>\n",
       "    .dataframe thead tr:only-child th {\n",
       "        text-align: right;\n",
       "    }\n",
       "\n",
       "    .dataframe thead th {\n",
       "        text-align: left;\n",
       "    }\n",
       "\n",
       "    .dataframe tbody tr th {\n",
       "        vertical-align: top;\n",
       "    }\n",
       "</style>\n",
       "<table border=\"1\" class=\"dataframe\">\n",
       "  <thead>\n",
       "    <tr style=\"text-align: right;\">\n",
       "      <th></th>\n",
       "      <th>VendorID</th>\n",
       "      <th>tpep_pickup_datetime</th>\n",
       "      <th>tpep_dropoff_datetime</th>\n",
       "      <th>passenger_count</th>\n",
       "      <th>trip_distance</th>\n",
       "      <th>pickup_longitude</th>\n",
       "      <th>pickup_latitude</th>\n",
       "      <th>RateCodeID</th>\n",
       "      <th>store_and_fwd_flag</th>\n",
       "      <th>dropoff_longitude</th>\n",
       "      <th>...</th>\n",
       "      <th>payment_type</th>\n",
       "      <th>fare_amount</th>\n",
       "      <th>extra</th>\n",
       "      <th>mta_tax</th>\n",
       "      <th>tip_amount</th>\n",
       "      <th>tolls_amount</th>\n",
       "      <th>improvement_surcharge</th>\n",
       "      <th>total_amount</th>\n",
       "      <th>tpep_pickup_timestamp_ms</th>\n",
       "      <th>tpep_dropoff_timestamp_ms</th>\n",
       "    </tr>\n",
       "  </thead>\n",
       "  <tbody>\n",
       "    <tr>\n",
       "      <th>0</th>\n",
       "      <td>2</td>\n",
       "      <td>2015-03-02 11:16:24</td>\n",
       "      <td>2015-03-02 11:37:03</td>\n",
       "      <td>2</td>\n",
       "      <td>3.23</td>\n",
       "      <td>-73.987480</td>\n",
       "      <td>40.738121</td>\n",
       "      <td>1</td>\n",
       "      <td>N</td>\n",
       "      <td>-73.953362</td>\n",
       "      <td>...</td>\n",
       "      <td>1</td>\n",
       "      <td>15.5</td>\n",
       "      <td>0.0</td>\n",
       "      <td>0.5</td>\n",
       "      <td>3.26</td>\n",
       "      <td>0.00</td>\n",
       "      <td>0.3</td>\n",
       "      <td>19.56</td>\n",
       "      <td>1425312984000</td>\n",
       "      <td>1425314223000</td>\n",
       "    </tr>\n",
       "    <tr>\n",
       "      <th>1</th>\n",
       "      <td>1</td>\n",
       "      <td>2015-03-01 16:42:33</td>\n",
       "      <td>2015-03-01 16:59:29</td>\n",
       "      <td>1</td>\n",
       "      <td>2.30</td>\n",
       "      <td>-73.979179</td>\n",
       "      <td>40.777756</td>\n",
       "      <td>1</td>\n",
       "      <td>N</td>\n",
       "      <td>-73.953178</td>\n",
       "      <td>...</td>\n",
       "      <td>1</td>\n",
       "      <td>11.5</td>\n",
       "      <td>0.0</td>\n",
       "      <td>0.5</td>\n",
       "      <td>2.45</td>\n",
       "      <td>0.00</td>\n",
       "      <td>0.3</td>\n",
       "      <td>14.75</td>\n",
       "      <td>1425246153000</td>\n",
       "      <td>1425247169000</td>\n",
       "    </tr>\n",
       "    <tr>\n",
       "      <th>2</th>\n",
       "      <td>1</td>\n",
       "      <td>2015-03-01 16:42:33</td>\n",
       "      <td>2015-03-01 17:09:10</td>\n",
       "      <td>1</td>\n",
       "      <td>9.20</td>\n",
       "      <td>-73.865578</td>\n",
       "      <td>40.770863</td>\n",
       "      <td>1</td>\n",
       "      <td>N</td>\n",
       "      <td>-73.984856</td>\n",
       "      <td>...</td>\n",
       "      <td>1</td>\n",
       "      <td>26.5</td>\n",
       "      <td>0.0</td>\n",
       "      <td>0.5</td>\n",
       "      <td>6.50</td>\n",
       "      <td>5.33</td>\n",
       "      <td>0.3</td>\n",
       "      <td>39.13</td>\n",
       "      <td>1425246153000</td>\n",
       "      <td>1425247750000</td>\n",
       "    </tr>\n",
       "    <tr>\n",
       "      <th>3</th>\n",
       "      <td>1</td>\n",
       "      <td>2015-03-01 16:42:34</td>\n",
       "      <td>2015-03-01 16:44:52</td>\n",
       "      <td>1</td>\n",
       "      <td>0.40</td>\n",
       "      <td>-73.952545</td>\n",
       "      <td>40.772148</td>\n",
       "      <td>1</td>\n",
       "      <td>N</td>\n",
       "      <td>-73.948593</td>\n",
       "      <td>...</td>\n",
       "      <td>2</td>\n",
       "      <td>3.5</td>\n",
       "      <td>0.0</td>\n",
       "      <td>0.5</td>\n",
       "      <td>0.00</td>\n",
       "      <td>0.00</td>\n",
       "      <td>0.3</td>\n",
       "      <td>4.30</td>\n",
       "      <td>1425246154000</td>\n",
       "      <td>1425246292000</td>\n",
       "    </tr>\n",
       "    <tr>\n",
       "      <th>4</th>\n",
       "      <td>1</td>\n",
       "      <td>2015-03-01 16:42:34</td>\n",
       "      <td>2015-03-01 16:47:09</td>\n",
       "      <td>1</td>\n",
       "      <td>0.90</td>\n",
       "      <td>-73.954231</td>\n",
       "      <td>40.778606</td>\n",
       "      <td>1</td>\n",
       "      <td>N</td>\n",
       "      <td>-73.947395</td>\n",
       "      <td>...</td>\n",
       "      <td>1</td>\n",
       "      <td>5.0</td>\n",
       "      <td>0.0</td>\n",
       "      <td>0.5</td>\n",
       "      <td>1.15</td>\n",
       "      <td>0.00</td>\n",
       "      <td>0.3</td>\n",
       "      <td>6.95</td>\n",
       "      <td>1425246154000</td>\n",
       "      <td>1425246429000</td>\n",
       "    </tr>\n",
       "  </tbody>\n",
       "</table>\n",
       "<p>5 rows × 21 columns</p>\n",
       "</div>"
      ],
      "text/plain": [
       "   VendorID tpep_pickup_datetime tpep_dropoff_datetime  passenger_count  \\\n",
       "0         2  2015-03-02 11:16:24   2015-03-02 11:37:03                2   \n",
       "1         1  2015-03-01 16:42:33   2015-03-01 16:59:29                1   \n",
       "2         1  2015-03-01 16:42:33   2015-03-01 17:09:10                1   \n",
       "3         1  2015-03-01 16:42:34   2015-03-01 16:44:52                1   \n",
       "4         1  2015-03-01 16:42:34   2015-03-01 16:47:09                1   \n",
       "\n",
       "   trip_distance  pickup_longitude  pickup_latitude  RateCodeID  \\\n",
       "0           3.23        -73.987480        40.738121           1   \n",
       "1           2.30        -73.979179        40.777756           1   \n",
       "2           9.20        -73.865578        40.770863           1   \n",
       "3           0.40        -73.952545        40.772148           1   \n",
       "4           0.90        -73.954231        40.778606           1   \n",
       "\n",
       "  store_and_fwd_flag  dropoff_longitude            ...              \\\n",
       "0                  N         -73.953362            ...               \n",
       "1                  N         -73.953178            ...               \n",
       "2                  N         -73.984856            ...               \n",
       "3                  N         -73.948593            ...               \n",
       "4                  N         -73.947395            ...               \n",
       "\n",
       "   payment_type  fare_amount  extra  mta_tax  tip_amount  tolls_amount  \\\n",
       "0             1         15.5    0.0      0.5        3.26          0.00   \n",
       "1             1         11.5    0.0      0.5        2.45          0.00   \n",
       "2             1         26.5    0.0      0.5        6.50          5.33   \n",
       "3             2          3.5    0.0      0.5        0.00          0.00   \n",
       "4             1          5.0    0.0      0.5        1.15          0.00   \n",
       "\n",
       "   improvement_surcharge  total_amount  tpep_pickup_timestamp_ms  \\\n",
       "0                    0.3         19.56             1425312984000   \n",
       "1                    0.3         14.75             1425246153000   \n",
       "2                    0.3         39.13             1425246153000   \n",
       "3                    0.3          4.30             1425246154000   \n",
       "4                    0.3          6.95             1425246154000   \n",
       "\n",
       "   tpep_dropoff_timestamp_ms  \n",
       "0              1425314223000  \n",
       "1              1425247169000  \n",
       "2              1425247750000  \n",
       "3              1425246292000  \n",
       "4              1425246429000  \n",
       "\n",
       "[5 rows x 21 columns]"
      ]
     },
     "execution_count": 193,
     "metadata": {},
     "output_type": "execute_result"
    }
   ],
   "source": [
    "filtered_sdf.limit(5).toPandas()"
   ]
  },
  {
   "cell_type": "code",
   "execution_count": 194,
   "metadata": {},
   "outputs": [],
   "source": [
    "def create_events(trip_record):\n",
    "    events = []\n",
    "    trip_id = str(uuid.uuid4())\n",
    "    pickup_datetime = trip_record.tpep_pickup_timestamp_ms\n",
    "    dropoff_datetime = trip_record.tpep_dropoff_timestamp_ms\n",
    "    events.append({\n",
    "        'event_type': 'pickup',\n",
    "        'timestamp': pickup_datetime,\n",
    "        'trip_fraction': 0.0,\n",
    "        'trip_id': trip_id,\n",
    "        'lat': trip_record.pickup_latitude,\n",
    "        'lon': trip_record.pickup_longitude,\n",
    "        'passenger_count': trip_record.passenger_count,\n",
    "        'trip_distance': 0.0,\n",
    "        'trip_duration_minutes': 0.0,\n",
    "        'total_amount': 0.0,\n",
    "    })\n",
    "    \n",
    "    # Create route events every 1 minute.\n",
    "    # Assume that route is a straight line from pickup to dropoff.\n",
    "    trip_duration = dropoff_datetime - pickup_datetime\n",
    "    report_period = 1*60*1000\n",
    "    report_timestamp = pickup_datetime\n",
    "    while True:\n",
    "        report_timestamp += report_period\n",
    "        if report_timestamp >= dropoff_datetime:\n",
    "            break\n",
    "        trip_fraction = (report_timestamp - pickup_datetime) / trip_duration\n",
    "        events.append({\n",
    "            'event_type': 'route',\n",
    "            'timestamp': report_timestamp,\n",
    "            'trip_fraction': trip_fraction,\n",
    "            'trip_id': trip_id,\n",
    "            'lat': trip_record.pickup_latitude + (trip_record.dropoff_latitude - trip_record.pickup_latitude) * trip_fraction,\n",
    "            'lon': trip_record.pickup_longitude + (trip_record.dropoff_longitude - trip_record.pickup_longitude) * trip_fraction,\n",
    "            'passenger_count': trip_record.passenger_count,\n",
    "            'trip_distance': 0.0,\n",
    "            'trip_duration_minutes': 0.0,\n",
    "            'total_amount': 0.0,\n",
    "        })\n",
    "\n",
    "    events.append({\n",
    "        'event_type': 'dropoff',\n",
    "        'timestamp': dropoff_datetime,\n",
    "        'trip_fraction': 1.0,\n",
    "        'trip_id': trip_id,\n",
    "        'lat': trip_record.dropoff_latitude,\n",
    "        'lon': trip_record.dropoff_longitude,\n",
    "        'passenger_count': trip_record.passenger_count,\n",
    "        'trip_distance': trip_record.trip_distance,\n",
    "        'trip_duration_minutes': trip_duration / (60*1000),\n",
    "        'total_amount': trip_record.total_amount,\n",
    "    })\n",
    "    rows = [Row(**event) for event in events]\n",
    "    return rows"
   ]
  },
  {
   "cell_type": "code",
   "execution_count": 195,
   "metadata": {},
   "outputs": [
    {
     "name": "stdout",
     "output_type": "stream",
     "text": [
      "CPU times: user 0 ns, sys: 4 ms, total: 4 ms\n",
      "Wall time: 35.9 ms\n"
     ]
    }
   ],
   "source": [
    "%%time\n",
    "all_events_rdd = filtered_sdf.rdd.flatMap(create_events)"
   ]
  },
  {
   "cell_type": "code",
   "execution_count": 196,
   "metadata": {},
   "outputs": [
    {
     "data": {
      "text/plain": [
       "[Row(event_type='pickup', lat=40.738121032714844, lon=-73.98748016357422, passenger_count=2, timestamp=1425312984000, total_amount=0.0, trip_distance=0.0, trip_duration_minutes=0.0, trip_fraction=0.0, trip_id='1fdd710d-7605-42f3-b2fa-6810ffe9c85a'),\n",
       " Row(event_type='route', lat=40.73950725490764, lon=-73.98582792859389, passenger_count=2, timestamp=1425313044000, total_amount=0.0, trip_distance=0.0, trip_duration_minutes=0.0, trip_fraction=0.048426150121065374, trip_id='1fdd710d-7605-42f3-b2fa-6810ffe9c85a')]"
      ]
     },
     "execution_count": 196,
     "metadata": {},
     "output_type": "execute_result"
    }
   ],
   "source": [
    "all_events_rdd.take(2)"
   ]
  },
  {
   "cell_type": "code",
   "execution_count": 197,
   "metadata": {},
   "outputs": [
    {
     "name": "stdout",
     "output_type": "stream",
     "text": [
      "CPU times: user 24 ms, sys: 4 ms, total: 28 ms\n",
      "Wall time: 144 ms\n"
     ]
    }
   ],
   "source": [
    "%%time\n",
    "all_events_sdf = sql_sc.createDataFrame(all_events_rdd)"
   ]
  },
  {
   "cell_type": "code",
   "execution_count": 198,
   "metadata": {},
   "outputs": [
    {
     "name": "stdout",
     "output_type": "stream",
     "text": [
      "+----------+------------------+------------------+---------------+-------------+------------+-------------+---------------------+--------------------+--------------------+\n",
      "|event_type|               lat|               lon|passenger_count|    timestamp|total_amount|trip_distance|trip_duration_minutes|       trip_fraction|             trip_id|\n",
      "+----------+------------------+------------------+---------------+-------------+------------+-------------+---------------------+--------------------+--------------------+\n",
      "|    pickup|40.738121032714844|-73.98748016357422|              2|1425312984000|         0.0|          0.0|                  0.0|                 0.0|181af4c1-dde4-486...|\n",
      "|     route| 40.73950725490764|-73.98582792859389|              2|1425313044000|         0.0|          0.0|                  0.0|0.048426150121065374|181af4c1-dde4-486...|\n",
      "|     route|40.740893477100435|-73.98417569361357|              2|1425313104000|         0.0|          0.0|                  0.0| 0.09685230024213075|181af4c1-dde4-486...|\n",
      "|     route|40.742279699293235|-73.98252345863324|              2|1425313164000|         0.0|          0.0|                  0.0| 0.14527845036319612|181af4c1-dde4-486...|\n",
      "|     route| 40.74366592148603|-73.98087122365291|              2|1425313224000|         0.0|          0.0|                  0.0|  0.1937046004842615|181af4c1-dde4-486...|\n",
      "|     route|40.745052143678826|-73.97921898867259|              2|1425313284000|         0.0|          0.0|                  0.0| 0.24213075060532688|181af4c1-dde4-486...|\n",
      "|     route|40.746438365871626|-73.97756675369226|              2|1425313344000|         0.0|          0.0|                  0.0| 0.29055690072639223|181af4c1-dde4-486...|\n",
      "|     route| 40.74782458806442|-73.97591451871193|              2|1425313404000|         0.0|          0.0|                  0.0|  0.3389830508474576|181af4c1-dde4-486...|\n",
      "|     route| 40.74921081025722| -73.9742622837316|              2|1425313464000|         0.0|          0.0|                  0.0|   0.387409200968523|181af4c1-dde4-486...|\n",
      "|     route| 40.75059703245001|-73.97261004875128|              2|1425313524000|         0.0|          0.0|                  0.0|  0.4358353510895884|181af4c1-dde4-486...|\n",
      "|     route| 40.75198325464281|-73.97095781377095|              2|1425313584000|         0.0|          0.0|                  0.0| 0.48426150121065376|181af4c1-dde4-486...|\n",
      "|     route| 40.75336947683561|-73.96930557879062|              2|1425313644000|         0.0|          0.0|                  0.0|  0.5326876513317191|181af4c1-dde4-486...|\n",
      "|     route|  40.7547556990284| -73.9676533438103|              2|1425313704000|         0.0|          0.0|                  0.0|  0.5811138014527845|181af4c1-dde4-486...|\n",
      "|     route|  40.7561419212212|-73.96600110882997|              2|1425313764000|         0.0|          0.0|                  0.0|  0.6295399515738499|181af4c1-dde4-486...|\n",
      "|     route|   40.757528143414|-73.96434887384964|              2|1425313824000|         0.0|          0.0|                  0.0|  0.6779661016949152|181af4c1-dde4-486...|\n",
      "|     route| 40.75891436560679|-73.96269663886932|              2|1425313884000|         0.0|          0.0|                  0.0|  0.7263922518159807|181af4c1-dde4-486...|\n",
      "|     route| 40.76030058779959|-73.96104440388899|              2|1425313944000|         0.0|          0.0|                  0.0|   0.774818401937046|181af4c1-dde4-486...|\n",
      "|     route| 40.76168680999238|-73.95939216890866|              2|1425314004000|         0.0|          0.0|                  0.0|  0.8232445520581114|181af4c1-dde4-486...|\n",
      "|     route| 40.76307303218518|-73.95773993392834|              2|1425314064000|         0.0|          0.0|                  0.0|  0.8716707021791767|181af4c1-dde4-486...|\n",
      "|     route| 40.76445925437798|-73.95608769894801|              2|1425314124000|         0.0|          0.0|                  0.0|  0.9200968523002422|181af4c1-dde4-486...|\n",
      "+----------+------------------+------------------+---------------+-------------+------------+-------------+---------------------+--------------------+--------------------+\n",
      "only showing top 20 rows\n",
      "\n"
     ]
    }
   ],
   "source": [
    "all_events_sdf.show()"
   ]
  },
  {
   "cell_type": "code",
   "execution_count": 207,
   "metadata": {},
   "outputs": [],
   "source": [
    "all_events2_sdf = all_events_sdf.withColumn('timestamp_str',  from_unixtime(all_events_sdf['timestamp' ] / 1000))"
   ]
  },
  {
   "cell_type": "code",
   "execution_count": 208,
   "metadata": {},
   "outputs": [
    {
     "name": "stdout",
     "output_type": "stream",
     "text": [
      "+----------+------------------+------------------+---------------+-------------+------------+-------------+---------------------+--------------------+--------------------+-------------------+\n",
      "|event_type|               lat|               lon|passenger_count|    timestamp|total_amount|trip_distance|trip_duration_minutes|       trip_fraction|             trip_id|      timestamp_str|\n",
      "+----------+------------------+------------------+---------------+-------------+------------+-------------+---------------------+--------------------+--------------------+-------------------+\n",
      "|    pickup|40.738121032714844|-73.98748016357422|              2|1425312984000|         0.0|          0.0|                  0.0|                 0.0|662c31aa-e58c-4f4...|2015-03-02 16:16:24|\n",
      "|     route| 40.73950725490764|-73.98582792859389|              2|1425313044000|         0.0|          0.0|                  0.0|0.048426150121065374|662c31aa-e58c-4f4...|2015-03-02 16:17:24|\n",
      "|     route|40.740893477100435|-73.98417569361357|              2|1425313104000|         0.0|          0.0|                  0.0| 0.09685230024213075|662c31aa-e58c-4f4...|2015-03-02 16:18:24|\n",
      "|     route|40.742279699293235|-73.98252345863324|              2|1425313164000|         0.0|          0.0|                  0.0| 0.14527845036319612|662c31aa-e58c-4f4...|2015-03-02 16:19:24|\n",
      "|     route| 40.74366592148603|-73.98087122365291|              2|1425313224000|         0.0|          0.0|                  0.0|  0.1937046004842615|662c31aa-e58c-4f4...|2015-03-02 16:20:24|\n",
      "|     route|40.745052143678826|-73.97921898867259|              2|1425313284000|         0.0|          0.0|                  0.0| 0.24213075060532688|662c31aa-e58c-4f4...|2015-03-02 16:21:24|\n",
      "|     route|40.746438365871626|-73.97756675369226|              2|1425313344000|         0.0|          0.0|                  0.0| 0.29055690072639223|662c31aa-e58c-4f4...|2015-03-02 16:22:24|\n",
      "|     route| 40.74782458806442|-73.97591451871193|              2|1425313404000|         0.0|          0.0|                  0.0|  0.3389830508474576|662c31aa-e58c-4f4...|2015-03-02 16:23:24|\n",
      "|     route| 40.74921081025722| -73.9742622837316|              2|1425313464000|         0.0|          0.0|                  0.0|   0.387409200968523|662c31aa-e58c-4f4...|2015-03-02 16:24:24|\n",
      "|     route| 40.75059703245001|-73.97261004875128|              2|1425313524000|         0.0|          0.0|                  0.0|  0.4358353510895884|662c31aa-e58c-4f4...|2015-03-02 16:25:24|\n",
      "|     route| 40.75198325464281|-73.97095781377095|              2|1425313584000|         0.0|          0.0|                  0.0| 0.48426150121065376|662c31aa-e58c-4f4...|2015-03-02 16:26:24|\n",
      "|     route| 40.75336947683561|-73.96930557879062|              2|1425313644000|         0.0|          0.0|                  0.0|  0.5326876513317191|662c31aa-e58c-4f4...|2015-03-02 16:27:24|\n",
      "|     route|  40.7547556990284| -73.9676533438103|              2|1425313704000|         0.0|          0.0|                  0.0|  0.5811138014527845|662c31aa-e58c-4f4...|2015-03-02 16:28:24|\n",
      "|     route|  40.7561419212212|-73.96600110882997|              2|1425313764000|         0.0|          0.0|                  0.0|  0.6295399515738499|662c31aa-e58c-4f4...|2015-03-02 16:29:24|\n",
      "|     route|   40.757528143414|-73.96434887384964|              2|1425313824000|         0.0|          0.0|                  0.0|  0.6779661016949152|662c31aa-e58c-4f4...|2015-03-02 16:30:24|\n",
      "|     route| 40.75891436560679|-73.96269663886932|              2|1425313884000|         0.0|          0.0|                  0.0|  0.7263922518159807|662c31aa-e58c-4f4...|2015-03-02 16:31:24|\n",
      "|     route| 40.76030058779959|-73.96104440388899|              2|1425313944000|         0.0|          0.0|                  0.0|   0.774818401937046|662c31aa-e58c-4f4...|2015-03-02 16:32:24|\n",
      "|     route| 40.76168680999238|-73.95939216890866|              2|1425314004000|         0.0|          0.0|                  0.0|  0.8232445520581114|662c31aa-e58c-4f4...|2015-03-02 16:33:24|\n",
      "|     route| 40.76307303218518|-73.95773993392834|              2|1425314064000|         0.0|          0.0|                  0.0|  0.8716707021791767|662c31aa-e58c-4f4...|2015-03-02 16:34:24|\n",
      "|     route| 40.76445925437798|-73.95608769894801|              2|1425314124000|         0.0|          0.0|                  0.0|  0.9200968523002422|662c31aa-e58c-4f4...|2015-03-02 16:35:24|\n",
      "+----------+------------------+------------------+---------------+-------------+------------+-------------+---------------------+--------------------+--------------------+-------------------+\n",
      "only showing top 20 rows\n",
      "\n"
     ]
    }
   ],
   "source": [
    "all_events2_sdf.show()"
   ]
  },
  {
   "cell_type": "code",
   "execution_count": 209,
   "metadata": {},
   "outputs": [
    {
     "name": "stdout",
     "output_type": "stream",
     "text": [
      "CPU times: user 8 ms, sys: 0 ns, total: 8 ms\n",
      "Wall time: 11.6 ms\n"
     ]
    }
   ],
   "source": [
    "%%time\n",
    "sorted_sdf = all_events2_sdf.orderBy('timestamp')"
   ]
  },
  {
   "cell_type": "code",
   "execution_count": 212,
   "metadata": {},
   "outputs": [
    {
     "name": "stdout",
     "output_type": "stream",
     "text": [
      "CPU times: user 52 ms, sys: 32 ms, total: 84 ms\n",
      "Wall time: 3min 3s\n"
     ]
    }
   ],
   "source": [
    "%%time\n",
    "sorted_sdf.write.mode('overwrite').format('json').save('data13.json')"
   ]
  },
  {
   "cell_type": "markdown",
   "metadata": {},
   "source": [
    "# Playground"
   ]
  }
 ],
 "metadata": {
  "kernelspec": {
   "display_name": "Python 3",
   "language": "python",
   "name": "python3"
  },
  "language_info": {
   "codemirror_mode": {
    "name": "ipython",
    "version": 3
   },
   "file_extension": ".py",
   "mimetype": "text/x-python",
   "name": "python",
   "nbconvert_exporter": "python",
   "pygments_lexer": "ipython3",
   "version": "3.6.1"
  }
 },
 "nbformat": 4,
 "nbformat_minor": 2
}
